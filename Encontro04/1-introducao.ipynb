{
 "cells": [
  {
   "cell_type": "markdown",
   "metadata": {},
   "source": [
    "# (Re)introdução a Grafos\n",
    "\n",
    "Este guia foi escrito para ajudar você a atingir os seguintes objetivos:\n",
    "\n",
    "* formalizar conceitos básicos de teoria dos grafos;\n",
    "* usar funcionalidades básicas da biblioteca da disciplina.\n",
    "\n",
    "\n",
    "## Grafos não-dirigidos\n",
    "\n",
    "Um **grafo não-dirigido** (*undirected graph*) é um par\n",
    "\n",
    "$(N, E)$,\n",
    "\n",
    "onde $N$ é um conjunto qualquer e $E$ é um conjunto de pares *não-ordenados* de elementos de $N$, ou seja,\n",
    "\n",
    "$E \\subseteq \\{\\{n, m\\} \\colon n \\in N \\textrm{ e } m \\in N\\}$.\n",
    "\n",
    "Um elemento de $N$ chama-se **nó** (*node*) e um elemento de $E$ chama-se **aresta** (*edge*). Em alguns trabalhos, usa-se $V$ e *vértice* em vez de $N$ e nó.\n",
    "\n",
    "\n",
    "## Grafos dirigidos\n",
    "\n",
    "Formalmente, um **grafo dirigido** (*directed graph*) é um par\n",
    "\n",
    "$(N, E)$,\n",
    "\n",
    "onde $N$ é um conjunto qualquer e $E$ é um conjunto de pares *ordenados* de elementos de *N*, ou seja,\n",
    "\n",
    "$E \\subseteq \\{(n, m) \\colon n \\in N \\textrm{ e } m \\in N\\}$.\n",
    "\n",
    "Um elemento de $N$ chama-se **nó** (*node*) e um elemento de $E$ chama-se **aresta** (*edge*). Em alguns trabalhos, usa-se $V$ e *vértice* em vez de $N$ e nó e usa-se $A$ e *arco* em vez de $E$ e aresta.\n",
    "\n",
    "\n",
    "## Instalando as dependências\n",
    "\n",
    "Antes de continuar, instale as duas dependências da biblioteca da disciplina:\n",
    "\n",
    "> `pip install networkx plotly`\n",
    "\n",
    "Em algumas distribuições Linux você deve usar o comando `pip3`, pois o comando `pip` está associado a Python 2 por padrão.\n",
    "\n",
    "\n",
    "## Importando a biblioteca\n",
    "\n",
    "Não mova ou renomeie os arquivos do repositório, a menos que você esteja disposto a adaptar os notebooks de acordo.\n",
    "\n",
    "Vamos importar a biblioteca da disciplina no notebook:"
   ]
  },
  {
   "cell_type": "code",
   "execution_count": 2,
   "metadata": {},
   "outputs": [],
   "source": [
    "import sys\n",
    "sys.path.append('..')\n",
    "\n",
    "import socnet as sn"
   ]
  },
  {
   "cell_type": "markdown",
   "metadata": {},
   "source": [
    "## Configurando a biblioteca\n",
    "\n",
    "A `socnet` disponibiliza variáveis de módulo que permitem configurar propriedades visuais. Os nomes são auto-explicativos e os valores abaixo são padrão."
   ]
  },
  {
   "cell_type": "code",
   "execution_count": 3,
   "metadata": {},
   "outputs": [],
   "source": [
    "sn.graph_width = 800\n",
    "sn.graph_height = 450\n",
    "\n",
    "sn.node_size = 20\n",
    "sn.node_color = (255, 255, 255)\n",
    "\n",
    "sn.edge_width = 2\n",
    "sn.edge_color = (0, 0, 0)\n",
    "\n",
    "sn.node_label_position = 'middle center'\n",
    "sn.edge_label_distance = 10"
   ]
  },
  {
   "cell_type": "markdown",
   "metadata": {},
   "source": [
    "Uma variável de cor armazena uma tupla contendo três inteiros entre *0* e *255* que representam intensidades de *vermelho*, *verde* e *azul* respectivamente.\n",
    "\n",
    "Uma variável de posição armazena uma string contendo duas palavras separadas por um espaço:\n",
    "* a primeira representa o alinhamento vertical e pode ser `top`, `middle` ou `bottom`;\n",
    "* a segunda representa o alinhamento horizontal e pode ser `left`, `center` ou `right`.\n",
    "\n",
    "## Carregando grafos\n",
    "\n",
    "Vamos carregar dois grafos no [formato GML](http://www.fim.uni-passau.de/fileadmin/files/lehrstuhl/brandenburg/projekte/gml/gml-technical-report.pdf):"
   ]
  },
  {
   "cell_type": "code",
   "execution_count": 4,
   "metadata": {},
   "outputs": [],
   "source": [
    "ug = sn.load_graph('5-kruskal.gml', has_pos=True)\n",
    "dg = sn.load_graph('4-dijkstra.gml', has_pos=True)"
   ]
  },
  {
   "cell_type": "markdown",
   "metadata": {},
   "source": [
    "Abra esses arquivos em um editor de texto e note como o formato é auto-explicativo.\n",
    "\n",
    "## Visualizando grafos\n",
    "\n",
    "Vamos visualizar o primeiro grafo, que é não-dirigido:"
   ]
  },
  {
   "cell_type": "code",
   "execution_count": 5,
   "metadata": {},
   "outputs": [
    {
     "data": {
      "application/vnd.plotly.v1+json": {
       "data": [
        {
         "hoverinfo": "none",
         "line": {
          "color": "rgb(0, 0, 0)",
          "width": 2
         },
         "mode": "lines",
         "type": "scatter",
         "uid": "fe654fbe-a23d-11e8-b30c-ac7ba15704fe",
         "x": [
          0,
          0.25,
          null,
          0,
          0.25,
          null,
          0.25,
          0.5,
          null,
          0.25,
          0.25,
          null,
          0.5,
          0.375,
          null,
          0.5,
          0.75,
          null,
          0.5,
          0.75,
          null,
          0.75,
          1,
          null,
          0.75,
          0.75,
          null,
          1,
          0.75,
          null,
          0.75,
          0.5,
          null,
          0.5,
          0.375,
          null,
          0.5,
          0.25,
          null,
          0.25,
          0.375,
          null
         ],
         "y": [
          0.5,
          1,
          null,
          0.5,
          0,
          null,
          1,
          1,
          null,
          1,
          0,
          null,
          1,
          0.5,
          null,
          1,
          1,
          null,
          1,
          0,
          null,
          1,
          0.5,
          null,
          1,
          0,
          null,
          0.5,
          0,
          null,
          0,
          0,
          null,
          0,
          0.5,
          null,
          0,
          0,
          null,
          0,
          0.5,
          null
         ]
        },
        {
         "hoverinfo": "none",
         "marker": {
          "color": "rgb(255, 255, 255)",
          "line": {
           "color": "rgb(0, 0, 0)",
           "width": 2
          },
          "size": 20
         },
         "mode": "markers+text",
         "text": [],
         "textfont": {
          "color": "rgb(0, 0, 0)"
         },
         "textposition": "middle center",
         "type": "scatter",
         "uid": "fe654fbf-a23d-11e8-b30c-ac7ba15704fe",
         "x": [
          0,
          0.25,
          0.5,
          0.75,
          1,
          0.75,
          0.5,
          0.25,
          0.375
         ],
         "y": [
          0.5,
          1,
          1,
          1,
          0.5,
          0,
          0,
          0,
          0.5
         ]
        }
       ],
       "layout": {
        "height": 180,
        "margin": {
         "b": 0,
         "l": 0,
         "r": 0,
         "t": 0
        },
        "showlegend": false,
        "width": 320,
        "xaxis": {
         "showgrid": false,
         "showticklabels": false,
         "zeroline": false
        },
        "yaxis": {
         "showgrid": false,
         "showticklabels": false,
         "zeroline": false
        }
       }
      },
      "text/html": [
       "<div id=\"9bdce4b4-a48e-464c-be28-8564487be7c7\" style=\"height: 180px; width: 320px;\" class=\"plotly-graph-div\"></div><script type=\"text/javascript\">require([\"plotly\"], function(Plotly) { window.PLOTLYENV=window.PLOTLYENV || {};window.PLOTLYENV.BASE_URL=\"https://plot.ly\";Plotly.newPlot(\"9bdce4b4-a48e-464c-be28-8564487be7c7\", [{\"hoverinfo\": \"none\", \"line\": {\"color\": \"rgb(0, 0, 0)\", \"width\": 2}, \"x\": [0.0, 0.25, null, 0.0, 0.25, null, 0.25, 0.5, null, 0.25, 0.25, null, 0.5, 0.375, null, 0.5, 0.75, null, 0.5, 0.75, null, 0.75, 1.0, null, 0.75, 0.75, null, 1.0, 0.75, null, 0.75, 0.5, null, 0.5, 0.375, null, 0.5, 0.25, null, 0.25, 0.375, null], \"type\": \"scatter\", \"y\": [0.5, 1.0, null, 0.5, 0.0, null, 1.0, 1.0, null, 1.0, 0.0, null, 1.0, 0.5, null, 1.0, 1.0, null, 1.0, 0.0, null, 1.0, 0.5, null, 1.0, 0.0, null, 0.5, 0.0, null, 0.0, 0.0, null, 0.0, 0.5, null, 0.0, 0.0, null, 0.0, 0.5, null], \"mode\": \"lines\", \"uid\": \"fe654fc0-a23d-11e8-b30c-ac7ba15704fe\"}, {\"uid\": \"fe654fc1-a23d-11e8-b30c-ac7ba15704fe\", \"hoverinfo\": \"none\", \"textposition\": \"middle center\", \"text\": [], \"marker\": {\"color\": \"rgb(255, 255, 255)\", \"size\": 20, \"line\": {\"color\": \"rgb(0, 0, 0)\", \"width\": 2}}, \"x\": [0.0, 0.25, 0.5, 0.75, 1.0, 0.75, 0.5, 0.25, 0.375], \"textfont\": {\"color\": \"rgb(0, 0, 0)\"}, \"y\": [0.5, 1.0, 1.0, 1.0, 0.5, 0.0, 0.0, 0.0, 0.5], \"mode\": \"markers+text\", \"type\": \"scatter\"}], {\"margin\": {\"t\": 0, \"b\": 0, \"l\": 0, \"r\": 0}, \"showlegend\": false, \"width\": 320, \"yaxis\": {\"zeroline\": false, \"showticklabels\": false, \"showgrid\": false}, \"height\": 180, \"xaxis\": {\"zeroline\": false, \"showticklabels\": false, \"showgrid\": false}}, {\"linkText\": \"Export to plot.ly\", \"displayModeBar\": false, \"showLink\": false})});</script>"
      ],
      "text/vnd.plotly.v1+html": [
       "<div id=\"9bdce4b4-a48e-464c-be28-8564487be7c7\" style=\"height: 180px; width: 320px;\" class=\"plotly-graph-div\"></div><script type=\"text/javascript\">require([\"plotly\"], function(Plotly) { window.PLOTLYENV=window.PLOTLYENV || {};window.PLOTLYENV.BASE_URL=\"https://plot.ly\";Plotly.newPlot(\"9bdce4b4-a48e-464c-be28-8564487be7c7\", [{\"hoverinfo\": \"none\", \"line\": {\"color\": \"rgb(0, 0, 0)\", \"width\": 2}, \"x\": [0.0, 0.25, null, 0.0, 0.25, null, 0.25, 0.5, null, 0.25, 0.25, null, 0.5, 0.375, null, 0.5, 0.75, null, 0.5, 0.75, null, 0.75, 1.0, null, 0.75, 0.75, null, 1.0, 0.75, null, 0.75, 0.5, null, 0.5, 0.375, null, 0.5, 0.25, null, 0.25, 0.375, null], \"type\": \"scatter\", \"y\": [0.5, 1.0, null, 0.5, 0.0, null, 1.0, 1.0, null, 1.0, 0.0, null, 1.0, 0.5, null, 1.0, 1.0, null, 1.0, 0.0, null, 1.0, 0.5, null, 1.0, 0.0, null, 0.5, 0.0, null, 0.0, 0.0, null, 0.0, 0.5, null, 0.0, 0.0, null, 0.0, 0.5, null], \"mode\": \"lines\", \"uid\": \"fe654fc0-a23d-11e8-b30c-ac7ba15704fe\"}, {\"uid\": \"fe654fc1-a23d-11e8-b30c-ac7ba15704fe\", \"hoverinfo\": \"none\", \"textposition\": \"middle center\", \"text\": [], \"marker\": {\"color\": \"rgb(255, 255, 255)\", \"size\": 20, \"line\": {\"color\": \"rgb(0, 0, 0)\", \"width\": 2}}, \"x\": [0.0, 0.25, 0.5, 0.75, 1.0, 0.75, 0.5, 0.25, 0.375], \"textfont\": {\"color\": \"rgb(0, 0, 0)\"}, \"y\": [0.5, 1.0, 1.0, 1.0, 0.5, 0.0, 0.0, 0.0, 0.5], \"mode\": \"markers+text\", \"type\": \"scatter\"}], {\"margin\": {\"t\": 0, \"b\": 0, \"l\": 0, \"r\": 0}, \"showlegend\": false, \"width\": 320, \"yaxis\": {\"zeroline\": false, \"showticklabels\": false, \"showgrid\": false}, \"height\": 180, \"xaxis\": {\"zeroline\": false, \"showticklabels\": false, \"showgrid\": false}}, {\"linkText\": \"Export to plot.ly\", \"displayModeBar\": false, \"showLink\": false})});</script>"
      ]
     },
     "metadata": {},
     "output_type": "display_data"
    }
   ],
   "source": [
    "sn.graph_width = 320\n",
    "sn.graph_height = 180\n",
    "\n",
    "sn.show_graph(ug)"
   ]
  },
  {
   "cell_type": "markdown",
   "metadata": {},
   "source": [
    "Essa é a representação mais comum de grafos não-dirigidos: círculos como nós e retas como arestas. Se uma reta *conecta* o círculo que representa $n$ ao círculo que representa $m$, ela representa a aresta $\\{n, m\\}$.\n",
    "\n",
    "Vamos agora visualizar o segundo grafo, que é dirigido:"
   ]
  },
  {
   "cell_type": "code",
   "execution_count": 6,
   "metadata": {},
   "outputs": [
    {
     "data": {
      "application/vnd.plotly.v1+json": {
       "data": [
        {
         "hoverinfo": "none",
         "line": {
          "color": "rgb(0, 0, 0)",
          "width": 2
         },
         "mode": "lines",
         "type": "scatter",
         "uid": "2802fae2-a23e-11e8-b30c-ac7ba15704fe",
         "x": [
          0,
          0.5,
          null,
          0.46643085439538495,
          0.44538388103556675,
          null,
          0.46643085439538495,
          0.4285584341548651,
          null,
          0,
          0.5,
          null,
          0.46643085439538495,
          0.4285584341548651,
          null,
          0.46643085439538495,
          0.44538388103556675,
          null,
          0.5,
          1,
          null,
          0.9621212121212122,
          0.9288794484132434,
          null,
          0.9621212121212122,
          0.9288794484132434,
          null,
          0.5075757575757576,
          0.5075757575757576,
          null,
          0.5075757575757576,
          0.5257358158562198,
          null,
          1.0075757575757576,
          1.0075757575757576,
          null,
          1.0075757575757576,
          1.0257358158562198,
          null,
          0.49242424242424243,
          0.49242424242424243,
          null,
          0.49242424242424243,
          0.4742641841437802,
          null,
          0.5,
          1,
          null,
          0.9738173240163878,
          0.9639630823912474,
          null,
          0.9738173240163878,
          0.9377166459078401,
          null,
          0.5,
          1,
          null,
          0.9621212121212122,
          0.9288794484132434,
          null,
          0.9621212121212122,
          0.9288794484132434,
          null,
          1,
          0,
          null,
          0.03664774299318793,
          0.07340128670201525,
          null,
          0.03664774299318793,
          0.06421703965128427,
          null,
          0.9924242424242424,
          0.9924242424242424,
          null,
          0.9924242424242424,
          0.9742641841437802,
          null
         ],
         "y": [
          0.5,
          1,
          null,
          0.966430854395385,
          0.906182816233176,
          null,
          0.966430854395385,
          0.967759498957256,
          null,
          0.5,
          0,
          null,
          0.03356914560461503,
          0.032240501042743994,
          null,
          0.03356914560461503,
          0.09381718376682407,
          null,
          1,
          1,
          null,
          1,
          0.9652590189417244,
          null,
          1,
          1.0347409810582755,
          null,
          1,
          0,
          null,
          0.07246376811594203,
          0.13605670738336034,
          null,
          1,
          0,
          null,
          0.07246376811594203,
          0.13605670738336034,
          null,
          0,
          1,
          null,
          0.927536231884058,
          0.8639432926166397,
          null,
          0,
          1,
          null,
          0.9476346480327754,
          0.8776659754484841,
          null,
          0.9476346480327754,
          0.9256934811496907,
          null,
          0,
          0,
          null,
          0,
          -0.03474098105827558,
          null,
          0,
          0.03474098105827558,
          null,
          0,
          0.5,
          null,
          0.481676128503406,
          0.4992073320037643,
          null,
          0.481676128503406,
          0.4319835048195859,
          null,
          0,
          1,
          null,
          0.927536231884058,
          0.8639432926166397,
          null
         ]
        },
        {
         "hoverinfo": "none",
         "marker": {
          "color": "rgb(255, 255, 255)",
          "line": {
           "color": "rgb(0, 0, 0)",
           "width": 2
          },
          "size": 20
         },
         "mode": "markers+text",
         "text": [],
         "textfont": {
          "color": "rgb(0, 0, 0)"
         },
         "textposition": "middle center",
         "type": "scatter",
         "uid": "2802fae3-a23e-11e8-b30c-ac7ba15704fe",
         "x": [
          0,
          0.5,
          1,
          0.5,
          1
         ],
         "y": [
          0.5,
          1,
          1,
          0,
          0
         ]
        }
       ],
       "layout": {
        "height": 180,
        "margin": {
         "b": 0,
         "l": 0,
         "r": 0,
         "t": 0
        },
        "showlegend": false,
        "width": 320,
        "xaxis": {
         "showgrid": false,
         "showticklabels": false,
         "zeroline": false
        },
        "yaxis": {
         "showgrid": false,
         "showticklabels": false,
         "zeroline": false
        }
       }
      },
      "text/html": [
       "<div id=\"cd819618-8676-4965-a947-0450ae4b2b72\" style=\"height: 180px; width: 320px;\" class=\"plotly-graph-div\"></div><script type=\"text/javascript\">require([\"plotly\"], function(Plotly) { window.PLOTLYENV=window.PLOTLYENV || {};window.PLOTLYENV.BASE_URL=\"https://plot.ly\";Plotly.newPlot(\"cd819618-8676-4965-a947-0450ae4b2b72\", [{\"hoverinfo\": \"none\", \"line\": {\"color\": \"rgb(0, 0, 0)\", \"width\": 2}, \"x\": [0.0, 0.5, null, 0.46643085439538495, 0.44538388103556675, null, 0.46643085439538495, 0.4285584341548651, null, 0.0, 0.5, null, 0.46643085439538495, 0.4285584341548651, null, 0.46643085439538495, 0.44538388103556675, null, 0.5, 1.0, null, 0.9621212121212122, 0.9288794484132434, null, 0.9621212121212122, 0.9288794484132434, null, 0.5075757575757576, 0.5075757575757576, null, 0.5075757575757576, 0.5257358158562198, null, 1.0075757575757576, 1.0075757575757576, null, 1.0075757575757576, 1.0257358158562198, null, 0.49242424242424243, 0.49242424242424243, null, 0.49242424242424243, 0.4742641841437802, null, 0.5, 1.0, null, 0.9738173240163878, 0.9639630823912474, null, 0.9738173240163878, 0.9377166459078401, null, 0.5, 1.0, null, 0.9621212121212122, 0.9288794484132434, null, 0.9621212121212122, 0.9288794484132434, null, 1.0, 0.0, null, 0.03664774299318793, 0.07340128670201525, null, 0.03664774299318793, 0.06421703965128427, null, 0.9924242424242424, 0.9924242424242424, null, 0.9924242424242424, 0.9742641841437802, null], \"type\": \"scatter\", \"y\": [0.5, 1.0, null, 0.966430854395385, 0.906182816233176, null, 0.966430854395385, 0.967759498957256, null, 0.5, 0.0, null, 0.03356914560461503, 0.032240501042743994, null, 0.03356914560461503, 0.09381718376682407, null, 1.0, 1.0, null, 1.0, 0.9652590189417244, null, 1.0, 1.0347409810582755, null, 1.0, 0.0, null, 0.07246376811594203, 0.13605670738336034, null, 1.0, 0.0, null, 0.07246376811594203, 0.13605670738336034, null, 0.0, 1.0, null, 0.927536231884058, 0.8639432926166397, null, 0.0, 1.0, null, 0.9476346480327754, 0.8776659754484841, null, 0.9476346480327754, 0.9256934811496907, null, 0.0, 0.0, null, 0.0, -0.03474098105827558, null, 0.0, 0.03474098105827558, null, 0.0, 0.5, null, 0.481676128503406, 0.4992073320037643, null, 0.481676128503406, 0.4319835048195859, null, 0.0, 1.0, null, 0.927536231884058, 0.8639432926166397, null], \"mode\": \"lines\", \"uid\": \"2802fae4-a23e-11e8-b30c-ac7ba15704fe\"}, {\"uid\": \"2802fae5-a23e-11e8-b30c-ac7ba15704fe\", \"hoverinfo\": \"none\", \"textposition\": \"middle center\", \"text\": [], \"marker\": {\"color\": \"rgb(255, 255, 255)\", \"size\": 20, \"line\": {\"color\": \"rgb(0, 0, 0)\", \"width\": 2}}, \"x\": [0.0, 0.5, 1.0, 0.5, 1.0], \"textfont\": {\"color\": \"rgb(0, 0, 0)\"}, \"y\": [0.5, 1.0, 1.0, 0.0, 0.0], \"mode\": \"markers+text\", \"type\": \"scatter\"}], {\"margin\": {\"t\": 0, \"b\": 0, \"l\": 0, \"r\": 0}, \"showlegend\": false, \"width\": 320, \"yaxis\": {\"zeroline\": false, \"showticklabels\": false, \"showgrid\": false}, \"height\": 180, \"xaxis\": {\"zeroline\": false, \"showticklabels\": false, \"showgrid\": false}}, {\"linkText\": \"Export to plot.ly\", \"displayModeBar\": false, \"showLink\": false})});</script>"
      ],
      "text/vnd.plotly.v1+html": [
       "<div id=\"cd819618-8676-4965-a947-0450ae4b2b72\" style=\"height: 180px; width: 320px;\" class=\"plotly-graph-div\"></div><script type=\"text/javascript\">require([\"plotly\"], function(Plotly) { window.PLOTLYENV=window.PLOTLYENV || {};window.PLOTLYENV.BASE_URL=\"https://plot.ly\";Plotly.newPlot(\"cd819618-8676-4965-a947-0450ae4b2b72\", [{\"hoverinfo\": \"none\", \"line\": {\"color\": \"rgb(0, 0, 0)\", \"width\": 2}, \"x\": [0.0, 0.5, null, 0.46643085439538495, 0.44538388103556675, null, 0.46643085439538495, 0.4285584341548651, null, 0.0, 0.5, null, 0.46643085439538495, 0.4285584341548651, null, 0.46643085439538495, 0.44538388103556675, null, 0.5, 1.0, null, 0.9621212121212122, 0.9288794484132434, null, 0.9621212121212122, 0.9288794484132434, null, 0.5075757575757576, 0.5075757575757576, null, 0.5075757575757576, 0.5257358158562198, null, 1.0075757575757576, 1.0075757575757576, null, 1.0075757575757576, 1.0257358158562198, null, 0.49242424242424243, 0.49242424242424243, null, 0.49242424242424243, 0.4742641841437802, null, 0.5, 1.0, null, 0.9738173240163878, 0.9639630823912474, null, 0.9738173240163878, 0.9377166459078401, null, 0.5, 1.0, null, 0.9621212121212122, 0.9288794484132434, null, 0.9621212121212122, 0.9288794484132434, null, 1.0, 0.0, null, 0.03664774299318793, 0.07340128670201525, null, 0.03664774299318793, 0.06421703965128427, null, 0.9924242424242424, 0.9924242424242424, null, 0.9924242424242424, 0.9742641841437802, null], \"type\": \"scatter\", \"y\": [0.5, 1.0, null, 0.966430854395385, 0.906182816233176, null, 0.966430854395385, 0.967759498957256, null, 0.5, 0.0, null, 0.03356914560461503, 0.032240501042743994, null, 0.03356914560461503, 0.09381718376682407, null, 1.0, 1.0, null, 1.0, 0.9652590189417244, null, 1.0, 1.0347409810582755, null, 1.0, 0.0, null, 0.07246376811594203, 0.13605670738336034, null, 1.0, 0.0, null, 0.07246376811594203, 0.13605670738336034, null, 0.0, 1.0, null, 0.927536231884058, 0.8639432926166397, null, 0.0, 1.0, null, 0.9476346480327754, 0.8776659754484841, null, 0.9476346480327754, 0.9256934811496907, null, 0.0, 0.0, null, 0.0, -0.03474098105827558, null, 0.0, 0.03474098105827558, null, 0.0, 0.5, null, 0.481676128503406, 0.4992073320037643, null, 0.481676128503406, 0.4319835048195859, null, 0.0, 1.0, null, 0.927536231884058, 0.8639432926166397, null], \"mode\": \"lines\", \"uid\": \"2802fae4-a23e-11e8-b30c-ac7ba15704fe\"}, {\"uid\": \"2802fae5-a23e-11e8-b30c-ac7ba15704fe\", \"hoverinfo\": \"none\", \"textposition\": \"middle center\", \"text\": [], \"marker\": {\"color\": \"rgb(255, 255, 255)\", \"size\": 20, \"line\": {\"color\": \"rgb(0, 0, 0)\", \"width\": 2}}, \"x\": [0.0, 0.5, 1.0, 0.5, 1.0], \"textfont\": {\"color\": \"rgb(0, 0, 0)\"}, \"y\": [0.5, 1.0, 1.0, 0.0, 0.0], \"mode\": \"markers+text\", \"type\": \"scatter\"}], {\"margin\": {\"t\": 0, \"b\": 0, \"l\": 0, \"r\": 0}, \"showlegend\": false, \"width\": 320, \"yaxis\": {\"zeroline\": false, \"showticklabels\": false, \"showgrid\": false}, \"height\": 180, \"xaxis\": {\"zeroline\": false, \"showticklabels\": false, \"showgrid\": false}}, {\"linkText\": \"Export to plot.ly\", \"displayModeBar\": false, \"showLink\": false})});</script>"
      ]
     },
     "metadata": {},
     "output_type": "display_data"
    }
   ],
   "source": [
    "sn.graph_width = 320\n",
    "sn.graph_height = 180\n",
    "\n",
    "sn.show_graph(dg)"
   ]
  },
  {
   "cell_type": "markdown",
   "metadata": {},
   "source": [
    "Essa é a representação mais comum de grafos dirigidos: círculos como nós e setas como arestas. Se uma seta *sai* do círculo que representa $n$ e *entra* no círculo que representa $m$, ela representa a aresta $(n, m)$.\n",
    "\n",
    "Note que as duas primeiras linhas não são necessárias se você rodou a célula anterior, pois os valores atribuídos a `graph_width` e `graph_height` são exatamente iguais.\n",
    "\n",
    "\n",
    "## Atributos de nós e arestas\n",
    "\n",
    "Na estrutura de dados usada pela `socnet`, os nós são *inteiros* e cada nó é asssociado a um *dicionário* que armazena seus atributos. Vamos modificar e imprimir o atributo `color` do nó $0$ do grafo `ug`. Esse atributo existe por padrão."
   ]
  },
  {
   "cell_type": "code",
   "execution_count": 7,
   "metadata": {},
   "outputs": [
    {
     "name": "stdout",
     "output_type": "stream",
     "text": [
      "(255, 0, 0)\n"
     ]
    }
   ],
   "source": [
    "ug.nodes[0]['color'] = (255, 0, 0)\n",
    "\n",
    "print(ug.nodes[0]['color'])"
   ]
  },
  {
   "cell_type": "markdown",
   "metadata": {},
   "source": [
    "Cada aresta também é asssociada a um dicionário que armazena seus atributos. Vamos modificar e imprimir o atributo `color` da aresta $\\{1, 2\\}$ do grafo `ug`. Esse atributo existe por padrão."
   ]
  },
  {
   "cell_type": "code",
   "execution_count": 8,
   "metadata": {},
   "outputs": [
    {
     "name": "stdout",
     "output_type": "stream",
     "text": [
      "(0, 255, 0)\n"
     ]
    }
   ],
   "source": [
    "ug.edges[1, 2]['color'] = (0, 255, 0)\n",
    "\n",
    "print(ug.edges[1, 2]['color'])"
   ]
  },
  {
   "cell_type": "markdown",
   "metadata": {},
   "source": [
    "Note que a ordem dos nós não importa, pois `ug` é um grafo não-dirigido."
   ]
  },
  {
   "cell_type": "code",
   "execution_count": 9,
   "metadata": {},
   "outputs": [
    {
     "name": "stdout",
     "output_type": "stream",
     "text": [
      "(0, 0, 255)\n"
     ]
    }
   ],
   "source": [
    "ug.edges[2, 1]['color'] = (0, 0, 255)\n",
    "\n",
    "print(ug.edges[1, 2]['color'])"
   ]
  },
  {
   "cell_type": "markdown",
   "metadata": {},
   "source": [
    "Os atributos `color` são exibidos na visualização."
   ]
  },
  {
   "cell_type": "code",
   "execution_count": 10,
   "metadata": {},
   "outputs": [
    {
     "data": {
      "application/vnd.plotly.v1+json": {
       "data": [
        {
         "hoverinfo": "none",
         "line": {
          "color": "rgb(0, 0, 255)",
          "width": 2
         },
         "mode": "lines",
         "type": "scatter",
         "uid": "a6dadaba-a23e-11e8-b30c-ac7ba15704fe",
         "x": [
          0.25,
          0.5,
          null
         ],
         "y": [
          1,
          1,
          null
         ]
        },
        {
         "hoverinfo": "none",
         "line": {
          "color": "rgb(0, 0, 0)",
          "width": 2
         },
         "mode": "lines",
         "type": "scatter",
         "uid": "a6dadabb-a23e-11e8-b30c-ac7ba15704fe",
         "x": [
          0,
          0.25,
          null,
          0,
          0.25,
          null,
          0.25,
          0.25,
          null,
          0.5,
          0.375,
          null,
          0.5,
          0.75,
          null,
          0.5,
          0.75,
          null,
          0.75,
          1,
          null,
          0.75,
          0.75,
          null,
          1,
          0.75,
          null,
          0.75,
          0.5,
          null,
          0.5,
          0.375,
          null,
          0.5,
          0.25,
          null,
          0.25,
          0.375,
          null
         ],
         "y": [
          0.5,
          1,
          null,
          0.5,
          0,
          null,
          1,
          0,
          null,
          1,
          0.5,
          null,
          1,
          1,
          null,
          1,
          0,
          null,
          1,
          0.5,
          null,
          1,
          0,
          null,
          0.5,
          0,
          null,
          0,
          0,
          null,
          0,
          0.5,
          null,
          0,
          0,
          null,
          0,
          0.5,
          null
         ]
        },
        {
         "hoverinfo": "none",
         "marker": {
          "color": "rgb(255, 255, 255)",
          "line": {
           "color": "rgb(0, 0, 0)",
           "width": 2
          },
          "size": 20
         },
         "mode": "markers+text",
         "text": [],
         "textfont": {
          "color": "rgb(0, 0, 0)"
         },
         "textposition": "middle center",
         "type": "scatter",
         "uid": "a6dadabc-a23e-11e8-b30c-ac7ba15704fe",
         "x": [
          0.25,
          0.5,
          0.75,
          1,
          0.75,
          0.5,
          0.25,
          0.375
         ],
         "y": [
          1,
          1,
          1,
          0.5,
          0,
          0,
          0,
          0.5
         ]
        },
        {
         "hoverinfo": "none",
         "marker": {
          "color": "rgb(255, 0, 0)",
          "line": {
           "color": "rgb(0, 0, 0)",
           "width": 2
          },
          "size": 20
         },
         "mode": "markers+text",
         "text": [],
         "textfont": {
          "color": "rgb(255, 255, 255)"
         },
         "textposition": "middle center",
         "type": "scatter",
         "uid": "a6dadabd-a23e-11e8-b30c-ac7ba15704fe",
         "x": [
          0
         ],
         "y": [
          0.5
         ]
        }
       ],
       "layout": {
        "height": 180,
        "margin": {
         "b": 0,
         "l": 0,
         "r": 0,
         "t": 0
        },
        "showlegend": false,
        "width": 320,
        "xaxis": {
         "showgrid": false,
         "showticklabels": false,
         "zeroline": false
        },
        "yaxis": {
         "showgrid": false,
         "showticklabels": false,
         "zeroline": false
        }
       }
      },
      "text/html": [
       "<div id=\"d7f343d8-e389-4041-898a-9acefd7e6506\" style=\"height: 180px; width: 320px;\" class=\"plotly-graph-div\"></div><script type=\"text/javascript\">require([\"plotly\"], function(Plotly) { window.PLOTLYENV=window.PLOTLYENV || {};window.PLOTLYENV.BASE_URL=\"https://plot.ly\";Plotly.newPlot(\"d7f343d8-e389-4041-898a-9acefd7e6506\", [{\"hoverinfo\": \"none\", \"line\": {\"color\": \"rgb(0, 0, 255)\", \"width\": 2}, \"x\": [0.25, 0.5, null], \"type\": \"scatter\", \"y\": [1.0, 1.0, null], \"mode\": \"lines\", \"uid\": \"a6dadabe-a23e-11e8-b30c-ac7ba15704fe\"}, {\"hoverinfo\": \"none\", \"line\": {\"color\": \"rgb(0, 0, 0)\", \"width\": 2}, \"x\": [0.0, 0.25, null, 0.0, 0.25, null, 0.25, 0.25, null, 0.5, 0.375, null, 0.5, 0.75, null, 0.5, 0.75, null, 0.75, 1.0, null, 0.75, 0.75, null, 1.0, 0.75, null, 0.75, 0.5, null, 0.5, 0.375, null, 0.5, 0.25, null, 0.25, 0.375, null], \"type\": \"scatter\", \"y\": [0.5, 1.0, null, 0.5, 0.0, null, 1.0, 0.0, null, 1.0, 0.5, null, 1.0, 1.0, null, 1.0, 0.0, null, 1.0, 0.5, null, 1.0, 0.0, null, 0.5, 0.0, null, 0.0, 0.0, null, 0.0, 0.5, null, 0.0, 0.0, null, 0.0, 0.5, null], \"mode\": \"lines\", \"uid\": \"a6dadabf-a23e-11e8-b30c-ac7ba15704fe\"}, {\"uid\": \"a6dadac0-a23e-11e8-b30c-ac7ba15704fe\", \"hoverinfo\": \"none\", \"textposition\": \"middle center\", \"text\": [], \"marker\": {\"color\": \"rgb(255, 255, 255)\", \"size\": 20, \"line\": {\"color\": \"rgb(0, 0, 0)\", \"width\": 2}}, \"x\": [0.25, 0.5, 0.75, 1.0, 0.75, 0.5, 0.25, 0.375], \"textfont\": {\"color\": \"rgb(0, 0, 0)\"}, \"y\": [1.0, 1.0, 1.0, 0.5, 0.0, 0.0, 0.0, 0.5], \"mode\": \"markers+text\", \"type\": \"scatter\"}, {\"uid\": \"a6dadac1-a23e-11e8-b30c-ac7ba15704fe\", \"hoverinfo\": \"none\", \"textposition\": \"middle center\", \"text\": [], \"marker\": {\"color\": \"rgb(255, 0, 0)\", \"size\": 20, \"line\": {\"color\": \"rgb(0, 0, 0)\", \"width\": 2}}, \"x\": [0.0], \"textfont\": {\"color\": \"rgb(255, 255, 255)\"}, \"y\": [0.5], \"mode\": \"markers+text\", \"type\": \"scatter\"}], {\"margin\": {\"t\": 0, \"b\": 0, \"l\": 0, \"r\": 0}, \"showlegend\": false, \"width\": 320, \"yaxis\": {\"zeroline\": false, \"showticklabels\": false, \"showgrid\": false}, \"height\": 180, \"xaxis\": {\"zeroline\": false, \"showticklabels\": false, \"showgrid\": false}}, {\"linkText\": \"Export to plot.ly\", \"displayModeBar\": false, \"showLink\": false})});</script>"
      ],
      "text/vnd.plotly.v1+html": [
       "<div id=\"d7f343d8-e389-4041-898a-9acefd7e6506\" style=\"height: 180px; width: 320px;\" class=\"plotly-graph-div\"></div><script type=\"text/javascript\">require([\"plotly\"], function(Plotly) { window.PLOTLYENV=window.PLOTLYENV || {};window.PLOTLYENV.BASE_URL=\"https://plot.ly\";Plotly.newPlot(\"d7f343d8-e389-4041-898a-9acefd7e6506\", [{\"hoverinfo\": \"none\", \"line\": {\"color\": \"rgb(0, 0, 255)\", \"width\": 2}, \"x\": [0.25, 0.5, null], \"type\": \"scatter\", \"y\": [1.0, 1.0, null], \"mode\": \"lines\", \"uid\": \"a6dadabe-a23e-11e8-b30c-ac7ba15704fe\"}, {\"hoverinfo\": \"none\", \"line\": {\"color\": \"rgb(0, 0, 0)\", \"width\": 2}, \"x\": [0.0, 0.25, null, 0.0, 0.25, null, 0.25, 0.25, null, 0.5, 0.375, null, 0.5, 0.75, null, 0.5, 0.75, null, 0.75, 1.0, null, 0.75, 0.75, null, 1.0, 0.75, null, 0.75, 0.5, null, 0.5, 0.375, null, 0.5, 0.25, null, 0.25, 0.375, null], \"type\": \"scatter\", \"y\": [0.5, 1.0, null, 0.5, 0.0, null, 1.0, 0.0, null, 1.0, 0.5, null, 1.0, 1.0, null, 1.0, 0.0, null, 1.0, 0.5, null, 1.0, 0.0, null, 0.5, 0.0, null, 0.0, 0.0, null, 0.0, 0.5, null, 0.0, 0.0, null, 0.0, 0.5, null], \"mode\": \"lines\", \"uid\": \"a6dadabf-a23e-11e8-b30c-ac7ba15704fe\"}, {\"uid\": \"a6dadac0-a23e-11e8-b30c-ac7ba15704fe\", \"hoverinfo\": \"none\", \"textposition\": \"middle center\", \"text\": [], \"marker\": {\"color\": \"rgb(255, 255, 255)\", \"size\": 20, \"line\": {\"color\": \"rgb(0, 0, 0)\", \"width\": 2}}, \"x\": [0.25, 0.5, 0.75, 1.0, 0.75, 0.5, 0.25, 0.375], \"textfont\": {\"color\": \"rgb(0, 0, 0)\"}, \"y\": [1.0, 1.0, 1.0, 0.5, 0.0, 0.0, 0.0, 0.5], \"mode\": \"markers+text\", \"type\": \"scatter\"}, {\"uid\": \"a6dadac1-a23e-11e8-b30c-ac7ba15704fe\", \"hoverinfo\": \"none\", \"textposition\": \"middle center\", \"text\": [], \"marker\": {\"color\": \"rgb(255, 0, 0)\", \"size\": 20, \"line\": {\"color\": \"rgb(0, 0, 0)\", \"width\": 2}}, \"x\": [0.0], \"textfont\": {\"color\": \"rgb(255, 255, 255)\"}, \"y\": [0.5], \"mode\": \"markers+text\", \"type\": \"scatter\"}], {\"margin\": {\"t\": 0, \"b\": 0, \"l\": 0, \"r\": 0}, \"showlegend\": false, \"width\": 320, \"yaxis\": {\"zeroline\": false, \"showticklabels\": false, \"showgrid\": false}, \"height\": 180, \"xaxis\": {\"zeroline\": false, \"showticklabels\": false, \"showgrid\": false}}, {\"linkText\": \"Export to plot.ly\", \"displayModeBar\": false, \"showLink\": false})});</script>"
      ]
     },
     "metadata": {},
     "output_type": "display_data"
    }
   ],
   "source": [
    "sn.show_graph(ug)"
   ]
  },
  {
   "cell_type": "markdown",
   "metadata": {},
   "source": [
    "Podemos usar funções de conveniência para reinicializar as cores."
   ]
  },
  {
   "cell_type": "code",
   "execution_count": 11,
   "metadata": {},
   "outputs": [
    {
     "data": {
      "application/vnd.plotly.v1+json": {
       "data": [
        {
         "hoverinfo": "none",
         "line": {
          "color": "rgb(0, 0, 0)",
          "width": 2
         },
         "mode": "lines",
         "type": "scatter",
         "uid": "ad0c029c-a23e-11e8-b30c-ac7ba15704fe",
         "x": [
          0,
          0.25,
          null,
          0,
          0.25,
          null,
          0.25,
          0.5,
          null,
          0.25,
          0.25,
          null,
          0.5,
          0.375,
          null,
          0.5,
          0.75,
          null,
          0.5,
          0.75,
          null,
          0.75,
          1,
          null,
          0.75,
          0.75,
          null,
          1,
          0.75,
          null,
          0.75,
          0.5,
          null,
          0.5,
          0.375,
          null,
          0.5,
          0.25,
          null,
          0.25,
          0.375,
          null
         ],
         "y": [
          0.5,
          1,
          null,
          0.5,
          0,
          null,
          1,
          1,
          null,
          1,
          0,
          null,
          1,
          0.5,
          null,
          1,
          1,
          null,
          1,
          0,
          null,
          1,
          0.5,
          null,
          1,
          0,
          null,
          0.5,
          0,
          null,
          0,
          0,
          null,
          0,
          0.5,
          null,
          0,
          0,
          null,
          0,
          0.5,
          null
         ]
        },
        {
         "hoverinfo": "none",
         "marker": {
          "color": "rgb(255, 255, 255)",
          "line": {
           "color": "rgb(0, 0, 0)",
           "width": 2
          },
          "size": 20
         },
         "mode": "markers+text",
         "text": [],
         "textfont": {
          "color": "rgb(0, 0, 0)"
         },
         "textposition": "middle center",
         "type": "scatter",
         "uid": "ad0c029d-a23e-11e8-b30c-ac7ba15704fe",
         "x": [
          0,
          0.25,
          0.5,
          0.75,
          1,
          0.75,
          0.5,
          0.25,
          0.375
         ],
         "y": [
          0.5,
          1,
          1,
          1,
          0.5,
          0,
          0,
          0,
          0.5
         ]
        }
       ],
       "layout": {
        "height": 180,
        "margin": {
         "b": 0,
         "l": 0,
         "r": 0,
         "t": 0
        },
        "showlegend": false,
        "width": 320,
        "xaxis": {
         "showgrid": false,
         "showticklabels": false,
         "zeroline": false
        },
        "yaxis": {
         "showgrid": false,
         "showticklabels": false,
         "zeroline": false
        }
       }
      },
      "text/html": [
       "<div id=\"facb64ec-fdfa-4408-b875-38ce6433e51a\" style=\"height: 180px; width: 320px;\" class=\"plotly-graph-div\"></div><script type=\"text/javascript\">require([\"plotly\"], function(Plotly) { window.PLOTLYENV=window.PLOTLYENV || {};window.PLOTLYENV.BASE_URL=\"https://plot.ly\";Plotly.newPlot(\"facb64ec-fdfa-4408-b875-38ce6433e51a\", [{\"hoverinfo\": \"none\", \"line\": {\"color\": \"rgb(0, 0, 0)\", \"width\": 2}, \"x\": [0.0, 0.25, null, 0.0, 0.25, null, 0.25, 0.5, null, 0.25, 0.25, null, 0.5, 0.375, null, 0.5, 0.75, null, 0.5, 0.75, null, 0.75, 1.0, null, 0.75, 0.75, null, 1.0, 0.75, null, 0.75, 0.5, null, 0.5, 0.375, null, 0.5, 0.25, null, 0.25, 0.375, null], \"type\": \"scatter\", \"y\": [0.5, 1.0, null, 0.5, 0.0, null, 1.0, 1.0, null, 1.0, 0.0, null, 1.0, 0.5, null, 1.0, 1.0, null, 1.0, 0.0, null, 1.0, 0.5, null, 1.0, 0.0, null, 0.5, 0.0, null, 0.0, 0.0, null, 0.0, 0.5, null, 0.0, 0.0, null, 0.0, 0.5, null], \"mode\": \"lines\", \"uid\": \"ad0c029e-a23e-11e8-b30c-ac7ba15704fe\"}, {\"uid\": \"ad0c029f-a23e-11e8-b30c-ac7ba15704fe\", \"hoverinfo\": \"none\", \"textposition\": \"middle center\", \"text\": [], \"marker\": {\"color\": \"rgb(255, 255, 255)\", \"size\": 20, \"line\": {\"color\": \"rgb(0, 0, 0)\", \"width\": 2}}, \"x\": [0.0, 0.25, 0.5, 0.75, 1.0, 0.75, 0.5, 0.25, 0.375], \"textfont\": {\"color\": \"rgb(0, 0, 0)\"}, \"y\": [0.5, 1.0, 1.0, 1.0, 0.5, 0.0, 0.0, 0.0, 0.5], \"mode\": \"markers+text\", \"type\": \"scatter\"}], {\"margin\": {\"t\": 0, \"b\": 0, \"l\": 0, \"r\": 0}, \"showlegend\": false, \"width\": 320, \"yaxis\": {\"zeroline\": false, \"showticklabels\": false, \"showgrid\": false}, \"height\": 180, \"xaxis\": {\"zeroline\": false, \"showticklabels\": false, \"showgrid\": false}}, {\"linkText\": \"Export to plot.ly\", \"displayModeBar\": false, \"showLink\": false})});</script>"
      ],
      "text/vnd.plotly.v1+html": [
       "<div id=\"facb64ec-fdfa-4408-b875-38ce6433e51a\" style=\"height: 180px; width: 320px;\" class=\"plotly-graph-div\"></div><script type=\"text/javascript\">require([\"plotly\"], function(Plotly) { window.PLOTLYENV=window.PLOTLYENV || {};window.PLOTLYENV.BASE_URL=\"https://plot.ly\";Plotly.newPlot(\"facb64ec-fdfa-4408-b875-38ce6433e51a\", [{\"hoverinfo\": \"none\", \"line\": {\"color\": \"rgb(0, 0, 0)\", \"width\": 2}, \"x\": [0.0, 0.25, null, 0.0, 0.25, null, 0.25, 0.5, null, 0.25, 0.25, null, 0.5, 0.375, null, 0.5, 0.75, null, 0.5, 0.75, null, 0.75, 1.0, null, 0.75, 0.75, null, 1.0, 0.75, null, 0.75, 0.5, null, 0.5, 0.375, null, 0.5, 0.25, null, 0.25, 0.375, null], \"type\": \"scatter\", \"y\": [0.5, 1.0, null, 0.5, 0.0, null, 1.0, 1.0, null, 1.0, 0.0, null, 1.0, 0.5, null, 1.0, 1.0, null, 1.0, 0.0, null, 1.0, 0.5, null, 1.0, 0.0, null, 0.5, 0.0, null, 0.0, 0.0, null, 0.0, 0.5, null, 0.0, 0.0, null, 0.0, 0.5, null], \"mode\": \"lines\", \"uid\": \"ad0c029e-a23e-11e8-b30c-ac7ba15704fe\"}, {\"uid\": \"ad0c029f-a23e-11e8-b30c-ac7ba15704fe\", \"hoverinfo\": \"none\", \"textposition\": \"middle center\", \"text\": [], \"marker\": {\"color\": \"rgb(255, 255, 255)\", \"size\": 20, \"line\": {\"color\": \"rgb(0, 0, 0)\", \"width\": 2}}, \"x\": [0.0, 0.25, 0.5, 0.75, 1.0, 0.75, 0.5, 0.25, 0.375], \"textfont\": {\"color\": \"rgb(0, 0, 0)\"}, \"y\": [0.5, 1.0, 1.0, 1.0, 0.5, 0.0, 0.0, 0.0, 0.5], \"mode\": \"markers+text\", \"type\": \"scatter\"}], {\"margin\": {\"t\": 0, \"b\": 0, \"l\": 0, \"r\": 0}, \"showlegend\": false, \"width\": 320, \"yaxis\": {\"zeroline\": false, \"showticklabels\": false, \"showgrid\": false}, \"height\": 180, \"xaxis\": {\"zeroline\": false, \"showticklabels\": false, \"showgrid\": false}}, {\"linkText\": \"Export to plot.ly\", \"displayModeBar\": false, \"showLink\": false})});</script>"
      ]
     },
     "metadata": {},
     "output_type": "display_data"
    }
   ],
   "source": [
    "sn.reset_node_colors(ug)\n",
    "sn.reset_edge_colors(ug)\n",
    "\n",
    "sn.show_graph(ug)"
   ]
  },
  {
   "cell_type": "markdown",
   "metadata": {},
   "source": [
    "Os atributos `label` também podem ser exibidos na visualização, mas não existem por padrão. Primeiramente, precisamos criá-los."
   ]
  },
  {
   "cell_type": "code",
   "execution_count": 12,
   "metadata": {},
   "outputs": [],
   "source": [
    "for n in ug.nodes:\n",
    "    ug.nodes[n]['label'] = str(n)\n",
    "for n, m in ug.edges:\n",
    "    ug.edges[n, m]['label'] = '?'\n",
    "\n",
    "for n in dg.nodes:\n",
    "    dg.nodes[n]['label'] = str(n)\n",
    "for n, m in dg.edges:\n",
    "    dg.edges[n, m]['label'] = '?'"
   ]
  },
  {
   "cell_type": "markdown",
   "metadata": {},
   "source": [
    "Depois, precisamos usar os argumentos `nlab` e `elab` para indicar que queremos exibi-los. Esses argumentos são `False` por padrão. "
   ]
  },
  {
   "cell_type": "code",
   "execution_count": 15,
   "metadata": {},
   "outputs": [
    {
     "data": {
      "application/vnd.plotly.v1+json": {
       "data": [
        {
         "hoverinfo": "none",
         "line": {
          "color": "rgb(0, 0, 0)",
          "width": 2
         },
         "mode": "lines",
         "type": "scatter",
         "uid": "3ee2bd64-a23f-11e8-b30c-ac7ba15704fe",
         "x": [
          0,
          0.25,
          null,
          0,
          0.25,
          null,
          0.25,
          0.5,
          null,
          0.25,
          0.25,
          null,
          0.5,
          0.375,
          null,
          0.5,
          0.75,
          null,
          0.5,
          0.75,
          null,
          0.75,
          1,
          null,
          0.75,
          0.75,
          null,
          1,
          0.75,
          null,
          0.75,
          0.5,
          null,
          0.5,
          0.375,
          null,
          0.5,
          0.25,
          null,
          0.25,
          0.375,
          null
         ],
         "y": [
          0.5,
          1,
          null,
          0.5,
          0,
          null,
          1,
          1,
          null,
          1,
          0,
          null,
          1,
          0.5,
          null,
          1,
          1,
          null,
          1,
          0,
          null,
          1,
          0.5,
          null,
          1,
          0,
          null,
          0.5,
          0,
          null,
          0,
          0,
          null,
          0,
          0.5,
          null,
          0,
          0,
          null,
          0,
          0.5,
          null
         ]
        },
        {
         "hoverinfo": "none",
         "marker": {
          "color": "rgb(255, 255, 255)",
          "line": {
           "color": "rgb(0, 0, 0)",
           "width": 2
          },
          "size": 20
         },
         "mode": "markers+text",
         "text": [
          "0",
          "1",
          "2",
          "3",
          "4",
          "5",
          "6",
          "7",
          "8"
         ],
         "textfont": {
          "color": "rgb(0, 0, 0)"
         },
         "textposition": "middle center",
         "type": "scatter",
         "uid": "3ee2bd65-a23f-11e8-b30c-ac7ba15704fe",
         "x": [
          0,
          0.25,
          0.5,
          0.75,
          1,
          0.75,
          0.5,
          0.25,
          0.375
         ],
         "y": [
          0.5,
          1,
          1,
          1,
          0.5,
          0,
          0,
          0,
          0.5
         ]
        },
        {
         "hoverinfo": "none",
         "mode": "text",
         "text": [
          "?",
          "?",
          "?",
          "?",
          "?",
          "?",
          "?",
          "?",
          "?",
          "?",
          "?",
          "?",
          "?",
          "?"
         ],
         "textfont": {
          "color": "rgb(0, 0, 0)"
         },
         "textposition": "middle center",
         "type": "scatter",
         "uid": "3ee2bd66-a23f-11e8-b30c-ac7ba15704fe",
         "x": [
          0.08835225700681207,
          0.16164774299318793,
          0.375,
          0.2878787878787879,
          0.4750594305323629,
          0.625,
          0.6625594305323629,
          0.911647742993188,
          0.7878787878787878,
          0.911647742993188,
          0.625,
          0.3999405694676371,
          0.375,
          0.2749405694676371
         ],
         "y": [
          0.768323871496594,
          0.268323871496594,
          1.0724637681159421,
          0.5,
          0.7406101423669093,
          1.0724637681159421,
          0.5093898576330907,
          0.768323871496594,
          0.5,
          0.23167612850340602,
          -0.07246376811594203,
          0.24061014236690928,
          -0.07246376811594203,
          0.2593898576330907
         ]
        }
       ],
       "layout": {
        "height": 180,
        "margin": {
         "b": 0,
         "l": 0,
         "r": 0,
         "t": 0
        },
        "showlegend": false,
        "width": 320,
        "xaxis": {
         "showgrid": false,
         "showticklabels": false,
         "zeroline": false
        },
        "yaxis": {
         "showgrid": false,
         "showticklabels": false,
         "zeroline": false
        }
       }
      },
      "text/html": [
       "<div id=\"2625dc2f-3bb2-4429-8dc3-dbcf7d8ca001\" style=\"height: 180px; width: 320px;\" class=\"plotly-graph-div\"></div><script type=\"text/javascript\">require([\"plotly\"], function(Plotly) { window.PLOTLYENV=window.PLOTLYENV || {};window.PLOTLYENV.BASE_URL=\"https://plot.ly\";Plotly.newPlot(\"2625dc2f-3bb2-4429-8dc3-dbcf7d8ca001\", [{\"hoverinfo\": \"none\", \"line\": {\"color\": \"rgb(0, 0, 0)\", \"width\": 2}, \"x\": [0.0, 0.25, null, 0.0, 0.25, null, 0.25, 0.5, null, 0.25, 0.25, null, 0.5, 0.375, null, 0.5, 0.75, null, 0.5, 0.75, null, 0.75, 1.0, null, 0.75, 0.75, null, 1.0, 0.75, null, 0.75, 0.5, null, 0.5, 0.375, null, 0.5, 0.25, null, 0.25, 0.375, null], \"type\": \"scatter\", \"y\": [0.5, 1.0, null, 0.5, 0.0, null, 1.0, 1.0, null, 1.0, 0.0, null, 1.0, 0.5, null, 1.0, 1.0, null, 1.0, 0.0, null, 1.0, 0.5, null, 1.0, 0.0, null, 0.5, 0.0, null, 0.0, 0.0, null, 0.0, 0.5, null, 0.0, 0.0, null, 0.0, 0.5, null], \"mode\": \"lines\", \"uid\": \"3ee2bd67-a23f-11e8-b30c-ac7ba15704fe\"}, {\"uid\": \"3ee2bd68-a23f-11e8-b30c-ac7ba15704fe\", \"hoverinfo\": \"none\", \"textposition\": \"middle center\", \"text\": [\"0\", \"1\", \"2\", \"3\", \"4\", \"5\", \"6\", \"7\", \"8\"], \"marker\": {\"color\": \"rgb(255, 255, 255)\", \"size\": 20, \"line\": {\"color\": \"rgb(0, 0, 0)\", \"width\": 2}}, \"x\": [0.0, 0.25, 0.5, 0.75, 1.0, 0.75, 0.5, 0.25, 0.375], \"textfont\": {\"color\": \"rgb(0, 0, 0)\"}, \"y\": [0.5, 1.0, 1.0, 1.0, 0.5, 0.0, 0.0, 0.0, 0.5], \"mode\": \"markers+text\", \"type\": \"scatter\"}, {\"uid\": \"3ee2bd69-a23f-11e8-b30c-ac7ba15704fe\", \"hoverinfo\": \"none\", \"text\": [\"?\", \"?\", \"?\", \"?\", \"?\", \"?\", \"?\", \"?\", \"?\", \"?\", \"?\", \"?\", \"?\", \"?\"], \"textposition\": \"middle center\", \"y\": [0.768323871496594, 0.268323871496594, 1.0724637681159421, 0.5, 0.7406101423669093, 1.0724637681159421, 0.5093898576330907, 0.768323871496594, 0.5, 0.23167612850340602, -0.07246376811594203, 0.24061014236690928, -0.07246376811594203, 0.2593898576330907], \"textfont\": {\"color\": \"rgb(0, 0, 0)\"}, \"x\": [0.08835225700681207, 0.16164774299318793, 0.375, 0.2878787878787879, 0.4750594305323629, 0.625, 0.6625594305323629, 0.911647742993188, 0.7878787878787878, 0.911647742993188, 0.625, 0.3999405694676371, 0.375, 0.2749405694676371], \"mode\": \"text\", \"type\": \"scatter\"}], {\"margin\": {\"t\": 0, \"b\": 0, \"l\": 0, \"r\": 0}, \"showlegend\": false, \"width\": 320, \"yaxis\": {\"zeroline\": false, \"showticklabels\": false, \"showgrid\": false}, \"height\": 180, \"xaxis\": {\"zeroline\": false, \"showticklabels\": false, \"showgrid\": false}}, {\"linkText\": \"Export to plot.ly\", \"displayModeBar\": false, \"showLink\": false})});</script>"
      ],
      "text/vnd.plotly.v1+html": [
       "<div id=\"2625dc2f-3bb2-4429-8dc3-dbcf7d8ca001\" style=\"height: 180px; width: 320px;\" class=\"plotly-graph-div\"></div><script type=\"text/javascript\">require([\"plotly\"], function(Plotly) { window.PLOTLYENV=window.PLOTLYENV || {};window.PLOTLYENV.BASE_URL=\"https://plot.ly\";Plotly.newPlot(\"2625dc2f-3bb2-4429-8dc3-dbcf7d8ca001\", [{\"hoverinfo\": \"none\", \"line\": {\"color\": \"rgb(0, 0, 0)\", \"width\": 2}, \"x\": [0.0, 0.25, null, 0.0, 0.25, null, 0.25, 0.5, null, 0.25, 0.25, null, 0.5, 0.375, null, 0.5, 0.75, null, 0.5, 0.75, null, 0.75, 1.0, null, 0.75, 0.75, null, 1.0, 0.75, null, 0.75, 0.5, null, 0.5, 0.375, null, 0.5, 0.25, null, 0.25, 0.375, null], \"type\": \"scatter\", \"y\": [0.5, 1.0, null, 0.5, 0.0, null, 1.0, 1.0, null, 1.0, 0.0, null, 1.0, 0.5, null, 1.0, 1.0, null, 1.0, 0.0, null, 1.0, 0.5, null, 1.0, 0.0, null, 0.5, 0.0, null, 0.0, 0.0, null, 0.0, 0.5, null, 0.0, 0.0, null, 0.0, 0.5, null], \"mode\": \"lines\", \"uid\": \"3ee2bd67-a23f-11e8-b30c-ac7ba15704fe\"}, {\"uid\": \"3ee2bd68-a23f-11e8-b30c-ac7ba15704fe\", \"hoverinfo\": \"none\", \"textposition\": \"middle center\", \"text\": [\"0\", \"1\", \"2\", \"3\", \"4\", \"5\", \"6\", \"7\", \"8\"], \"marker\": {\"color\": \"rgb(255, 255, 255)\", \"size\": 20, \"line\": {\"color\": \"rgb(0, 0, 0)\", \"width\": 2}}, \"x\": [0.0, 0.25, 0.5, 0.75, 1.0, 0.75, 0.5, 0.25, 0.375], \"textfont\": {\"color\": \"rgb(0, 0, 0)\"}, \"y\": [0.5, 1.0, 1.0, 1.0, 0.5, 0.0, 0.0, 0.0, 0.5], \"mode\": \"markers+text\", \"type\": \"scatter\"}, {\"uid\": \"3ee2bd69-a23f-11e8-b30c-ac7ba15704fe\", \"hoverinfo\": \"none\", \"text\": [\"?\", \"?\", \"?\", \"?\", \"?\", \"?\", \"?\", \"?\", \"?\", \"?\", \"?\", \"?\", \"?\", \"?\"], \"textposition\": \"middle center\", \"y\": [0.768323871496594, 0.268323871496594, 1.0724637681159421, 0.5, 0.7406101423669093, 1.0724637681159421, 0.5093898576330907, 0.768323871496594, 0.5, 0.23167612850340602, -0.07246376811594203, 0.24061014236690928, -0.07246376811594203, 0.2593898576330907], \"textfont\": {\"color\": \"rgb(0, 0, 0)\"}, \"x\": [0.08835225700681207, 0.16164774299318793, 0.375, 0.2878787878787879, 0.4750594305323629, 0.625, 0.6625594305323629, 0.911647742993188, 0.7878787878787878, 0.911647742993188, 0.625, 0.3999405694676371, 0.375, 0.2749405694676371], \"mode\": \"text\", \"type\": \"scatter\"}], {\"margin\": {\"t\": 0, \"b\": 0, \"l\": 0, \"r\": 0}, \"showlegend\": false, \"width\": 320, \"yaxis\": {\"zeroline\": false, \"showticklabels\": false, \"showgrid\": false}, \"height\": 180, \"xaxis\": {\"zeroline\": false, \"showticklabels\": false, \"showgrid\": false}}, {\"linkText\": \"Export to plot.ly\", \"displayModeBar\": false, \"showLink\": false})});</script>"
      ]
     },
     "metadata": {},
     "output_type": "display_data"
    },
    {
     "data": {
      "application/vnd.plotly.v1+json": {
       "data": [
        {
         "hoverinfo": "none",
         "line": {
          "color": "rgb(0, 0, 0)",
          "width": 2
         },
         "mode": "lines",
         "type": "scatter",
         "uid": "3ee2bd6a-a23f-11e8-b30c-ac7ba15704fe",
         "x": [
          0,
          0.5,
          null,
          0.46643085439538495,
          0.44538388103556675,
          null,
          0.46643085439538495,
          0.4285584341548651,
          null,
          0,
          0.5,
          null,
          0.46643085439538495,
          0.4285584341548651,
          null,
          0.46643085439538495,
          0.44538388103556675,
          null,
          0.5,
          1,
          null,
          0.9621212121212122,
          0.9288794484132434,
          null,
          0.9621212121212122,
          0.9288794484132434,
          null,
          0.5075757575757576,
          0.5075757575757576,
          null,
          0.5075757575757576,
          0.5257358158562198,
          null,
          1.0075757575757576,
          1.0075757575757576,
          null,
          1.0075757575757576,
          1.0257358158562198,
          null,
          0.49242424242424243,
          0.49242424242424243,
          null,
          0.49242424242424243,
          0.4742641841437802,
          null,
          0.5,
          1,
          null,
          0.9738173240163878,
          0.9639630823912474,
          null,
          0.9738173240163878,
          0.9377166459078401,
          null,
          0.5,
          1,
          null,
          0.9621212121212122,
          0.9288794484132434,
          null,
          0.9621212121212122,
          0.9288794484132434,
          null,
          1,
          0,
          null,
          0.03664774299318793,
          0.07340128670201525,
          null,
          0.03664774299318793,
          0.06421703965128427,
          null,
          0.9924242424242424,
          0.9924242424242424,
          null,
          0.9924242424242424,
          0.9742641841437802,
          null
         ],
         "y": [
          0.5,
          1,
          null,
          0.966430854395385,
          0.906182816233176,
          null,
          0.966430854395385,
          0.967759498957256,
          null,
          0.5,
          0,
          null,
          0.03356914560461503,
          0.032240501042743994,
          null,
          0.03356914560461503,
          0.09381718376682407,
          null,
          1,
          1,
          null,
          1,
          0.9652590189417244,
          null,
          1,
          1.0347409810582755,
          null,
          1,
          0,
          null,
          0.07246376811594203,
          0.13605670738336034,
          null,
          1,
          0,
          null,
          0.07246376811594203,
          0.13605670738336034,
          null,
          0,
          1,
          null,
          0.927536231884058,
          0.8639432926166397,
          null,
          0,
          1,
          null,
          0.9476346480327754,
          0.8776659754484841,
          null,
          0.9476346480327754,
          0.9256934811496907,
          null,
          0,
          0,
          null,
          0,
          -0.03474098105827558,
          null,
          0,
          0.03474098105827558,
          null,
          0,
          0.5,
          null,
          0.481676128503406,
          0.4992073320037643,
          null,
          0.481676128503406,
          0.4319835048195859,
          null,
          0,
          1,
          null,
          0.927536231884058,
          0.8639432926166397,
          null
         ]
        },
        {
         "hoverinfo": "none",
         "marker": {
          "color": "rgb(255, 255, 255)",
          "line": {
           "color": "rgb(0, 0, 0)",
           "width": 2
          },
          "size": 20
         },
         "mode": "markers+text",
         "text": [
          "0",
          "1",
          "2",
          "3",
          "4"
         ],
         "textfont": {
          "color": "rgb(0, 0, 0)"
         },
         "textposition": "middle center",
         "type": "scatter",
         "uid": "3ee2bd6b-a23f-11e8-b30c-ac7ba15704fe",
         "x": [
          0,
          0.5,
          1,
          0.5,
          1
         ],
         "y": [
          0.5,
          1,
          1,
          0,
          0
         ]
        },
        {
         "hoverinfo": "none",
         "mode": "text",
         "text": [
          "?",
          "?",
          "?",
          "?",
          "?",
          "?",
          "?",
          "?",
          "?",
          "?"
         ],
         "textfont": {
          "color": "rgb(0, 0, 0)"
         },
         "textposition": "middle center",
         "type": "scatter",
         "uid": "3ee2bd6c-a23f-11e8-b30c-ac7ba15704fe",
         "x": [
          0.21643085439538495,
          0.28356914560461505,
          0.75,
          0.5454545454545454,
          1.0454545454545454,
          0.45454545454545453,
          0.713352257006812,
          0.75,
          0.4738173240163877,
          0.9545454545454546
         ],
         "y": [
          0.783569145604615,
          0.28356914560461505,
          1.0724637681159421,
          0.5,
          0.5,
          0.5,
          0.518323871496594,
          0.07246376811594203,
          0.19763464803277542,
          0.5
         ]
        }
       ],
       "layout": {
        "height": 180,
        "margin": {
         "b": 0,
         "l": 0,
         "r": 0,
         "t": 0
        },
        "showlegend": false,
        "width": 320,
        "xaxis": {
         "showgrid": false,
         "showticklabels": false,
         "zeroline": false
        },
        "yaxis": {
         "showgrid": false,
         "showticklabels": false,
         "zeroline": false
        }
       }
      },
      "text/html": [
       "<div id=\"435c87ed-01cd-4f13-b480-7ed1938e897f\" style=\"height: 180px; width: 320px;\" class=\"plotly-graph-div\"></div><script type=\"text/javascript\">require([\"plotly\"], function(Plotly) { window.PLOTLYENV=window.PLOTLYENV || {};window.PLOTLYENV.BASE_URL=\"https://plot.ly\";Plotly.newPlot(\"435c87ed-01cd-4f13-b480-7ed1938e897f\", [{\"hoverinfo\": \"none\", \"line\": {\"color\": \"rgb(0, 0, 0)\", \"width\": 2}, \"x\": [0.0, 0.5, null, 0.46643085439538495, 0.44538388103556675, null, 0.46643085439538495, 0.4285584341548651, null, 0.0, 0.5, null, 0.46643085439538495, 0.4285584341548651, null, 0.46643085439538495, 0.44538388103556675, null, 0.5, 1.0, null, 0.9621212121212122, 0.9288794484132434, null, 0.9621212121212122, 0.9288794484132434, null, 0.5075757575757576, 0.5075757575757576, null, 0.5075757575757576, 0.5257358158562198, null, 1.0075757575757576, 1.0075757575757576, null, 1.0075757575757576, 1.0257358158562198, null, 0.49242424242424243, 0.49242424242424243, null, 0.49242424242424243, 0.4742641841437802, null, 0.5, 1.0, null, 0.9738173240163878, 0.9639630823912474, null, 0.9738173240163878, 0.9377166459078401, null, 0.5, 1.0, null, 0.9621212121212122, 0.9288794484132434, null, 0.9621212121212122, 0.9288794484132434, null, 1.0, 0.0, null, 0.03664774299318793, 0.07340128670201525, null, 0.03664774299318793, 0.06421703965128427, null, 0.9924242424242424, 0.9924242424242424, null, 0.9924242424242424, 0.9742641841437802, null], \"type\": \"scatter\", \"y\": [0.5, 1.0, null, 0.966430854395385, 0.906182816233176, null, 0.966430854395385, 0.967759498957256, null, 0.5, 0.0, null, 0.03356914560461503, 0.032240501042743994, null, 0.03356914560461503, 0.09381718376682407, null, 1.0, 1.0, null, 1.0, 0.9652590189417244, null, 1.0, 1.0347409810582755, null, 1.0, 0.0, null, 0.07246376811594203, 0.13605670738336034, null, 1.0, 0.0, null, 0.07246376811594203, 0.13605670738336034, null, 0.0, 1.0, null, 0.927536231884058, 0.8639432926166397, null, 0.0, 1.0, null, 0.9476346480327754, 0.8776659754484841, null, 0.9476346480327754, 0.9256934811496907, null, 0.0, 0.0, null, 0.0, -0.03474098105827558, null, 0.0, 0.03474098105827558, null, 0.0, 0.5, null, 0.481676128503406, 0.4992073320037643, null, 0.481676128503406, 0.4319835048195859, null, 0.0, 1.0, null, 0.927536231884058, 0.8639432926166397, null], \"mode\": \"lines\", \"uid\": \"3ee2bd6d-a23f-11e8-b30c-ac7ba15704fe\"}, {\"uid\": \"3ee2bd6e-a23f-11e8-b30c-ac7ba15704fe\", \"hoverinfo\": \"none\", \"textposition\": \"middle center\", \"text\": [\"0\", \"1\", \"2\", \"3\", \"4\"], \"marker\": {\"color\": \"rgb(255, 255, 255)\", \"size\": 20, \"line\": {\"color\": \"rgb(0, 0, 0)\", \"width\": 2}}, \"x\": [0.0, 0.5, 1.0, 0.5, 1.0], \"textfont\": {\"color\": \"rgb(0, 0, 0)\"}, \"y\": [0.5, 1.0, 1.0, 0.0, 0.0], \"mode\": \"markers+text\", \"type\": \"scatter\"}, {\"uid\": \"3ee2bd6f-a23f-11e8-b30c-ac7ba15704fe\", \"hoverinfo\": \"none\", \"text\": [\"?\", \"?\", \"?\", \"?\", \"?\", \"?\", \"?\", \"?\", \"?\", \"?\"], \"textposition\": \"middle center\", \"y\": [0.783569145604615, 0.28356914560461505, 1.0724637681159421, 0.5, 0.5, 0.5, 0.518323871496594, 0.07246376811594203, 0.19763464803277542, 0.5], \"textfont\": {\"color\": \"rgb(0, 0, 0)\"}, \"x\": [0.21643085439538495, 0.28356914560461505, 0.75, 0.5454545454545454, 1.0454545454545454, 0.45454545454545453, 0.713352257006812, 0.75, 0.4738173240163877, 0.9545454545454546], \"mode\": \"text\", \"type\": \"scatter\"}], {\"margin\": {\"t\": 0, \"b\": 0, \"l\": 0, \"r\": 0}, \"showlegend\": false, \"width\": 320, \"yaxis\": {\"zeroline\": false, \"showticklabels\": false, \"showgrid\": false}, \"height\": 180, \"xaxis\": {\"zeroline\": false, \"showticklabels\": false, \"showgrid\": false}}, {\"linkText\": \"Export to plot.ly\", \"displayModeBar\": false, \"showLink\": false})});</script>"
      ],
      "text/vnd.plotly.v1+html": [
       "<div id=\"435c87ed-01cd-4f13-b480-7ed1938e897f\" style=\"height: 180px; width: 320px;\" class=\"plotly-graph-div\"></div><script type=\"text/javascript\">require([\"plotly\"], function(Plotly) { window.PLOTLYENV=window.PLOTLYENV || {};window.PLOTLYENV.BASE_URL=\"https://plot.ly\";Plotly.newPlot(\"435c87ed-01cd-4f13-b480-7ed1938e897f\", [{\"hoverinfo\": \"none\", \"line\": {\"color\": \"rgb(0, 0, 0)\", \"width\": 2}, \"x\": [0.0, 0.5, null, 0.46643085439538495, 0.44538388103556675, null, 0.46643085439538495, 0.4285584341548651, null, 0.0, 0.5, null, 0.46643085439538495, 0.4285584341548651, null, 0.46643085439538495, 0.44538388103556675, null, 0.5, 1.0, null, 0.9621212121212122, 0.9288794484132434, null, 0.9621212121212122, 0.9288794484132434, null, 0.5075757575757576, 0.5075757575757576, null, 0.5075757575757576, 0.5257358158562198, null, 1.0075757575757576, 1.0075757575757576, null, 1.0075757575757576, 1.0257358158562198, null, 0.49242424242424243, 0.49242424242424243, null, 0.49242424242424243, 0.4742641841437802, null, 0.5, 1.0, null, 0.9738173240163878, 0.9639630823912474, null, 0.9738173240163878, 0.9377166459078401, null, 0.5, 1.0, null, 0.9621212121212122, 0.9288794484132434, null, 0.9621212121212122, 0.9288794484132434, null, 1.0, 0.0, null, 0.03664774299318793, 0.07340128670201525, null, 0.03664774299318793, 0.06421703965128427, null, 0.9924242424242424, 0.9924242424242424, null, 0.9924242424242424, 0.9742641841437802, null], \"type\": \"scatter\", \"y\": [0.5, 1.0, null, 0.966430854395385, 0.906182816233176, null, 0.966430854395385, 0.967759498957256, null, 0.5, 0.0, null, 0.03356914560461503, 0.032240501042743994, null, 0.03356914560461503, 0.09381718376682407, null, 1.0, 1.0, null, 1.0, 0.9652590189417244, null, 1.0, 1.0347409810582755, null, 1.0, 0.0, null, 0.07246376811594203, 0.13605670738336034, null, 1.0, 0.0, null, 0.07246376811594203, 0.13605670738336034, null, 0.0, 1.0, null, 0.927536231884058, 0.8639432926166397, null, 0.0, 1.0, null, 0.9476346480327754, 0.8776659754484841, null, 0.9476346480327754, 0.9256934811496907, null, 0.0, 0.0, null, 0.0, -0.03474098105827558, null, 0.0, 0.03474098105827558, null, 0.0, 0.5, null, 0.481676128503406, 0.4992073320037643, null, 0.481676128503406, 0.4319835048195859, null, 0.0, 1.0, null, 0.927536231884058, 0.8639432926166397, null], \"mode\": \"lines\", \"uid\": \"3ee2bd6d-a23f-11e8-b30c-ac7ba15704fe\"}, {\"uid\": \"3ee2bd6e-a23f-11e8-b30c-ac7ba15704fe\", \"hoverinfo\": \"none\", \"textposition\": \"middle center\", \"text\": [\"0\", \"1\", \"2\", \"3\", \"4\"], \"marker\": {\"color\": \"rgb(255, 255, 255)\", \"size\": 20, \"line\": {\"color\": \"rgb(0, 0, 0)\", \"width\": 2}}, \"x\": [0.0, 0.5, 1.0, 0.5, 1.0], \"textfont\": {\"color\": \"rgb(0, 0, 0)\"}, \"y\": [0.5, 1.0, 1.0, 0.0, 0.0], \"mode\": \"markers+text\", \"type\": \"scatter\"}, {\"uid\": \"3ee2bd6f-a23f-11e8-b30c-ac7ba15704fe\", \"hoverinfo\": \"none\", \"text\": [\"?\", \"?\", \"?\", \"?\", \"?\", \"?\", \"?\", \"?\", \"?\", \"?\"], \"textposition\": \"middle center\", \"y\": [0.783569145604615, 0.28356914560461505, 1.0724637681159421, 0.5, 0.5, 0.5, 0.518323871496594, 0.07246376811594203, 0.19763464803277542, 0.5], \"textfont\": {\"color\": \"rgb(0, 0, 0)\"}, \"x\": [0.21643085439538495, 0.28356914560461505, 0.75, 0.5454545454545454, 1.0454545454545454, 0.45454545454545453, 0.713352257006812, 0.75, 0.4738173240163877, 0.9545454545454546], \"mode\": \"text\", \"type\": \"scatter\"}], {\"margin\": {\"t\": 0, \"b\": 0, \"l\": 0, \"r\": 0}, \"showlegend\": false, \"width\": 320, \"yaxis\": {\"zeroline\": false, \"showticklabels\": false, \"showgrid\": false}, \"height\": 180, \"xaxis\": {\"zeroline\": false, \"showticklabels\": false, \"showgrid\": false}}, {\"linkText\": \"Export to plot.ly\", \"displayModeBar\": false, \"showLink\": false})});</script>"
      ]
     },
     "metadata": {},
     "output_type": "display_data"
    }
   ],
   "source": [
    "sn.show_graph(ug, nlab=True, elab=True)\n",
    "sn.show_graph(dg, nlab=True, elab=True)"
   ]
  },
  {
   "cell_type": "markdown",
   "metadata": {},
   "source": [
    "## Vizinhos, predecessores e sucessores\n",
    "\n",
    "Considere um grafo $(N, E)$ e um nó $n$. Suponha que esse grafo é não-dirigido.\n",
    "\n",
    "Nesse caso, dizemos que $n$ é **vizinho** (*neighbor*) de $m$ se $\\{n, m\\} \\in E$. Denotamos por $\\mathcal{N}(n)$ o conjunto dos vizinhos de $n$."
   ]
  },
  {
   "cell_type": "code",
   "execution_count": 16,
   "metadata": {},
   "outputs": [
    {
     "name": "stdout",
     "output_type": "stream",
     "text": [
      "<dict_keyiterator object at 0x7f800290c638>\n"
     ]
    }
   ],
   "source": [
    "print(ug.neighbors(0))"
   ]
  },
  {
   "cell_type": "markdown",
   "metadata": {},
   "source": [
    "Suponha agora que o grafo $(N, E)$ é dirigido.\n",
    "\n",
    "Nesse caso, dizemos que $n$ é **predecessor** de $m$ se $(n, m) \\in E$ e dizemos que $n$ é **sucessor** de $m$ se $(m, n) \\in E$. Denotamos por $\\mathcal{P}(n)$ o conjunto dos predecessores de $n$ e denotamos por $\\mathcal{S}(n)$ o conjunto dos sucessores de $n$."
   ]
  },
  {
   "cell_type": "code",
   "execution_count": 17,
   "metadata": {},
   "outputs": [
    {
     "name": "stdout",
     "output_type": "stream",
     "text": [
      "<dict_keyiterator object at 0x7f800290c7c8>\n",
      "<dict_keyiterator object at 0x7f800290c7c8>\n"
     ]
    }
   ],
   "source": [
    "print(dg.successors(0))\n",
    "print(dg.predecessors(1))"
   ]
  },
  {
   "cell_type": "markdown",
   "metadata": {},
   "source": [
    "## Passeios, trilhas e caminhos\n",
    "\n",
    "Se $(N, E)$ é um grafo não-dirigido:\n",
    "\n",
    "* um **passeio** (*walk*) é uma sequência de nós $\\langle n_0, n_1, \\ldots, n_{k-1} \\rangle$ tal que, para todo $i$ entre $0$ e $k-2$, temos que $\\{n_i, n_{i + 1}\\} \\in E$;\n",
    "\n",
    "* uma **trilha** (*trail*) é um passeio $\\langle n_0, n_1, \\ldots, n_{k-1} \\rangle$ no qual não existem índices $i$ e $j$ entre $0$ e $k-2$ tais que $i \\neq j$ e $\\{n_i, n_{i+1}\\} = \\{n_j, n_{j+1}\\}$;\n",
    "\n",
    "* um **caminho** (*path*) é um passeio $\\langle n_0, n_1, \\ldots, n_{k-1} \\rangle$ no qual não existem índices $i$ e $j$ entre $0$ e $k-1$ tais que $i \\neq j$ e $n_i = n_j$.\n",
    "\n",
    "Se $(N, E)$ é um grafo dirigido:\n",
    "\n",
    "* um **passeio** (*walk*) é uma sequência de nós $\\langle n_0, n_1, \\ldots, n_{k-1} \\rangle$ tal que, para todo $i$ entre $0$ e $k-2$, temos que $(n_i, n_{i + 1}) \\in E$;\n",
    "\n",
    "* uma **trilha** (*trail*) é um passeio $\\langle n_0, n_1, \\ldots, n_{k-1} \\rangle$ no qual não existem índices $i$ e $j$ entre $0$ e $k-2$ tais que $i \\neq j$ e $(n_i, n_{i+1}) = (n_j, n_{j+1})$;\n",
    "\n",
    "* um **caminho** (*path*) é um passeio $\\langle n_0, n_1, \\ldots, n_{k-1} \\rangle$ no qual não existem índices $i$ e $j$ entre $0$ e $k-1$ tais que $i \\neq j$ e $n_i = n_j$.\n",
    "\n",
    "Pode-se dizer que uma trilha é um passeio que não repete arestas e um caminho é um passeio que não repete nós.\n",
    "\n",
    "### Exercício 1\n",
    "\n",
    "Dê um exemplo de passeio que não é trilha no grafo `ug`."
   ]
  },
  {
   "cell_type": "markdown",
   "metadata": {},
   "source": [
    "1 - 2 - 1"
   ]
  },
  {
   "cell_type": "markdown",
   "metadata": {},
   "source": [
    "### Exercício 2\n",
    "\n",
    "Dê um exemplo de passeio que não é trilha no grafo `dg`."
   ]
  },
  {
   "cell_type": "markdown",
   "metadata": {},
   "source": [
    "1 - 2 - 4 - 0 - 1 - 2"
   ]
  },
  {
   "cell_type": "markdown",
   "metadata": {},
   "source": [
    "### Exercício 3\n",
    "\n",
    "Dê um exemplo de trilha que não é caminho no grafo `ug`."
   ]
  },
  {
   "cell_type": "markdown",
   "metadata": {},
   "source": [
    "1 - 2 - 8 - 7 - 1"
   ]
  },
  {
   "cell_type": "markdown",
   "metadata": {},
   "source": [
    "### Exercício 4\n",
    "\n",
    "Dê um exemplo de trilha que não é caminho no grafo `dg`."
   ]
  },
  {
   "cell_type": "markdown",
   "metadata": {},
   "source": [
    "0 - 3 - 4 - 0"
   ]
  },
  {
   "cell_type": "markdown",
   "metadata": {},
   "source": [
    "### Exercício 5\n",
    "\n",
    "Use cores para dar um exemplo de caminho no grafo `ug`."
   ]
  },
  {
   "cell_type": "code",
   "execution_count": 19,
   "metadata": {},
   "outputs": [
    {
     "data": {
      "application/vnd.plotly.v1+json": {
       "data": [
        {
         "hoverinfo": "none",
         "line": {
          "color": "rgb(0, 0, 255)",
          "width": 2
         },
         "mode": "lines",
         "type": "scatter",
         "uid": "8b182a6e-a241-11e8-b30c-ac7ba15704fe",
         "x": [
          0,
          0.25,
          null,
          0.25,
          0.5,
          null,
          0.5,
          0.75,
          null,
          0.75,
          1,
          null,
          1,
          0.75,
          null,
          0.75,
          0.5,
          null,
          0.5,
          0.25,
          null
         ],
         "y": [
          0.5,
          1,
          null,
          1,
          1,
          null,
          1,
          1,
          null,
          1,
          0.5,
          null,
          0.5,
          0,
          null,
          0,
          0,
          null,
          0,
          0,
          null
         ]
        },
        {
         "hoverinfo": "none",
         "line": {
          "color": "rgb(0, 0, 0)",
          "width": 2
         },
         "mode": "lines",
         "type": "scatter",
         "uid": "8b182a6f-a241-11e8-b30c-ac7ba15704fe",
         "x": [
          0,
          0.25,
          null,
          0.25,
          0.25,
          null,
          0.5,
          0.375,
          null,
          0.5,
          0.75,
          null,
          0.75,
          0.75,
          null,
          0.5,
          0.375,
          null,
          0.25,
          0.375,
          null
         ],
         "y": [
          0.5,
          0,
          null,
          1,
          0,
          null,
          1,
          0.5,
          null,
          1,
          0,
          null,
          1,
          0,
          null,
          0,
          0.5,
          null,
          0,
          0.5,
          null
         ]
        },
        {
         "hoverinfo": "none",
         "marker": {
          "color": "rgb(255, 255, 255)",
          "line": {
           "color": "rgb(0, 0, 0)",
           "width": 2
          },
          "size": 20
         },
         "mode": "markers+text",
         "text": [
          "0",
          "1",
          "2",
          "3",
          "4",
          "5",
          "6",
          "7",
          "8"
         ],
         "textfont": {
          "color": "rgb(0, 0, 0)"
         },
         "textposition": "middle center",
         "type": "scatter",
         "uid": "8b182a70-a241-11e8-b30c-ac7ba15704fe",
         "x": [
          0,
          0.25,
          0.5,
          0.75,
          1,
          0.75,
          0.5,
          0.25,
          0.375
         ],
         "y": [
          0.5,
          1,
          1,
          1,
          0.5,
          0,
          0,
          0,
          0.5
         ]
        }
       ],
       "layout": {
        "height": 180,
        "margin": {
         "b": 0,
         "l": 0,
         "r": 0,
         "t": 0
        },
        "showlegend": false,
        "width": 320,
        "xaxis": {
         "showgrid": false,
         "showticklabels": false,
         "zeroline": false
        },
        "yaxis": {
         "showgrid": false,
         "showticklabels": false,
         "zeroline": false
        }
       }
      },
      "text/html": [
       "<div id=\"3bd1b406-a5b9-4537-aa70-74be7bcba434\" style=\"height: 180px; width: 320px;\" class=\"plotly-graph-div\"></div><script type=\"text/javascript\">require([\"plotly\"], function(Plotly) { window.PLOTLYENV=window.PLOTLYENV || {};window.PLOTLYENV.BASE_URL=\"https://plot.ly\";Plotly.newPlot(\"3bd1b406-a5b9-4537-aa70-74be7bcba434\", [{\"hoverinfo\": \"none\", \"line\": {\"color\": \"rgb(0, 0, 255)\", \"width\": 2}, \"x\": [0.0, 0.25, null, 0.25, 0.5, null, 0.5, 0.75, null, 0.75, 1.0, null, 1.0, 0.75, null, 0.75, 0.5, null, 0.5, 0.25, null], \"type\": \"scatter\", \"y\": [0.5, 1.0, null, 1.0, 1.0, null, 1.0, 1.0, null, 1.0, 0.5, null, 0.5, 0.0, null, 0.0, 0.0, null, 0.0, 0.0, null], \"mode\": \"lines\", \"uid\": \"8b182a71-a241-11e8-b30c-ac7ba15704fe\"}, {\"hoverinfo\": \"none\", \"line\": {\"color\": \"rgb(0, 0, 0)\", \"width\": 2}, \"x\": [0.0, 0.25, null, 0.25, 0.25, null, 0.5, 0.375, null, 0.5, 0.75, null, 0.75, 0.75, null, 0.5, 0.375, null, 0.25, 0.375, null], \"type\": \"scatter\", \"y\": [0.5, 0.0, null, 1.0, 0.0, null, 1.0, 0.5, null, 1.0, 0.0, null, 1.0, 0.0, null, 0.0, 0.5, null, 0.0, 0.5, null], \"mode\": \"lines\", \"uid\": \"8b182a72-a241-11e8-b30c-ac7ba15704fe\"}, {\"uid\": \"8b182a73-a241-11e8-b30c-ac7ba15704fe\", \"hoverinfo\": \"none\", \"textposition\": \"middle center\", \"text\": [\"0\", \"1\", \"2\", \"3\", \"4\", \"5\", \"6\", \"7\", \"8\"], \"marker\": {\"color\": \"rgb(255, 255, 255)\", \"size\": 20, \"line\": {\"color\": \"rgb(0, 0, 0)\", \"width\": 2}}, \"x\": [0.0, 0.25, 0.5, 0.75, 1.0, 0.75, 0.5, 0.25, 0.375], \"textfont\": {\"color\": \"rgb(0, 0, 0)\"}, \"y\": [0.5, 1.0, 1.0, 1.0, 0.5, 0.0, 0.0, 0.0, 0.5], \"mode\": \"markers+text\", \"type\": \"scatter\"}], {\"margin\": {\"t\": 0, \"b\": 0, \"l\": 0, \"r\": 0}, \"showlegend\": false, \"width\": 320, \"yaxis\": {\"zeroline\": false, \"showticklabels\": false, \"showgrid\": false}, \"height\": 180, \"xaxis\": {\"zeroline\": false, \"showticklabels\": false, \"showgrid\": false}}, {\"linkText\": \"Export to plot.ly\", \"displayModeBar\": false, \"showLink\": false})});</script>"
      ],
      "text/vnd.plotly.v1+html": [
       "<div id=\"3bd1b406-a5b9-4537-aa70-74be7bcba434\" style=\"height: 180px; width: 320px;\" class=\"plotly-graph-div\"></div><script type=\"text/javascript\">require([\"plotly\"], function(Plotly) { window.PLOTLYENV=window.PLOTLYENV || {};window.PLOTLYENV.BASE_URL=\"https://plot.ly\";Plotly.newPlot(\"3bd1b406-a5b9-4537-aa70-74be7bcba434\", [{\"hoverinfo\": \"none\", \"line\": {\"color\": \"rgb(0, 0, 255)\", \"width\": 2}, \"x\": [0.0, 0.25, null, 0.25, 0.5, null, 0.5, 0.75, null, 0.75, 1.0, null, 1.0, 0.75, null, 0.75, 0.5, null, 0.5, 0.25, null], \"type\": \"scatter\", \"y\": [0.5, 1.0, null, 1.0, 1.0, null, 1.0, 1.0, null, 1.0, 0.5, null, 0.5, 0.0, null, 0.0, 0.0, null, 0.0, 0.0, null], \"mode\": \"lines\", \"uid\": \"8b182a71-a241-11e8-b30c-ac7ba15704fe\"}, {\"hoverinfo\": \"none\", \"line\": {\"color\": \"rgb(0, 0, 0)\", \"width\": 2}, \"x\": [0.0, 0.25, null, 0.25, 0.25, null, 0.5, 0.375, null, 0.5, 0.75, null, 0.75, 0.75, null, 0.5, 0.375, null, 0.25, 0.375, null], \"type\": \"scatter\", \"y\": [0.5, 0.0, null, 1.0, 0.0, null, 1.0, 0.5, null, 1.0, 0.0, null, 1.0, 0.0, null, 0.0, 0.5, null, 0.0, 0.5, null], \"mode\": \"lines\", \"uid\": \"8b182a72-a241-11e8-b30c-ac7ba15704fe\"}, {\"uid\": \"8b182a73-a241-11e8-b30c-ac7ba15704fe\", \"hoverinfo\": \"none\", \"textposition\": \"middle center\", \"text\": [\"0\", \"1\", \"2\", \"3\", \"4\", \"5\", \"6\", \"7\", \"8\"], \"marker\": {\"color\": \"rgb(255, 255, 255)\", \"size\": 20, \"line\": {\"color\": \"rgb(0, 0, 0)\", \"width\": 2}}, \"x\": [0.0, 0.25, 0.5, 0.75, 1.0, 0.75, 0.5, 0.25, 0.375], \"textfont\": {\"color\": \"rgb(0, 0, 0)\"}, \"y\": [0.5, 1.0, 1.0, 1.0, 0.5, 0.0, 0.0, 0.0, 0.5], \"mode\": \"markers+text\", \"type\": \"scatter\"}], {\"margin\": {\"t\": 0, \"b\": 0, \"l\": 0, \"r\": 0}, \"showlegend\": false, \"width\": 320, \"yaxis\": {\"zeroline\": false, \"showticklabels\": false, \"showgrid\": false}, \"height\": 180, \"xaxis\": {\"zeroline\": false, \"showticklabels\": false, \"showgrid\": false}}, {\"linkText\": \"Export to plot.ly\", \"displayModeBar\": false, \"showLink\": false})});</script>"
      ]
     },
     "metadata": {},
     "output_type": "display_data"
    }
   ],
   "source": [
    "ug.edges[0, 1]['color'] = (0, 0, 255)\n",
    "ug.edges[1, 2]['color'] = (0, 0, 255)\n",
    "ug.edges[2, 3]['color'] = (0, 0, 255)\n",
    "ug.edges[3, 4]['color'] = (0, 0, 255)\n",
    "ug.edges[4, 5]['color'] = (0, 0, 255)\n",
    "ug.edges[5, 6]['color'] = (0, 0, 255)\n",
    "ug.edges[6, 7]['color'] = (0, 0, 255)\n",
    "\n",
    "sn.show_graph(ug, nlab=True)"
   ]
  },
  {
   "cell_type": "markdown",
   "metadata": {},
   "source": [
    "### Exercício 6\n",
    "\n",
    "Use cores para dar um exemplo de caminho no grafo `dg`."
   ]
  },
  {
   "cell_type": "code",
   "execution_count": 20,
   "metadata": {},
   "outputs": [
    {
     "data": {
      "application/vnd.plotly.v1+json": {
       "data": [
        {
         "hoverinfo": "none",
         "line": {
          "color": "rgb(0, 0, 255)",
          "width": 2
         },
         "mode": "lines",
         "type": "scatter",
         "uid": "94d91c02-a241-11e8-b30c-ac7ba15704fe",
         "x": [
          0,
          0.5,
          null,
          0.46643085439538495,
          0.44538388103556675,
          null,
          0.46643085439538495,
          0.4285584341548651,
          null,
          0.5075757575757576,
          0.5075757575757576,
          null,
          0.5075757575757576,
          0.5257358158562198,
          null,
          0.5,
          1,
          null,
          0.9738173240163878,
          0.9639630823912474,
          null,
          0.9738173240163878,
          0.9377166459078401,
          null
         ],
         "y": [
          0.5,
          1,
          null,
          0.966430854395385,
          0.906182816233176,
          null,
          0.966430854395385,
          0.967759498957256,
          null,
          1,
          0,
          null,
          0.07246376811594203,
          0.13605670738336034,
          null,
          0,
          1,
          null,
          0.9476346480327754,
          0.8776659754484841,
          null,
          0.9476346480327754,
          0.9256934811496907,
          null
         ]
        },
        {
         "hoverinfo": "none",
         "line": {
          "color": "rgb(0, 0, 0)",
          "width": 2
         },
         "mode": "lines",
         "type": "scatter",
         "uid": "94d91c03-a241-11e8-b30c-ac7ba15704fe",
         "x": [
          0,
          0.5,
          null,
          0.46643085439538495,
          0.4285584341548651,
          null,
          0.46643085439538495,
          0.44538388103556675,
          null,
          0.5,
          1,
          null,
          0.9621212121212122,
          0.9288794484132434,
          null,
          0.9621212121212122,
          0.9288794484132434,
          null,
          1.0075757575757576,
          1.0075757575757576,
          null,
          1.0075757575757576,
          1.0257358158562198,
          null,
          0.49242424242424243,
          0.49242424242424243,
          null,
          0.49242424242424243,
          0.4742641841437802,
          null,
          0.5,
          1,
          null,
          0.9621212121212122,
          0.9288794484132434,
          null,
          0.9621212121212122,
          0.9288794484132434,
          null,
          1,
          0,
          null,
          0.03664774299318793,
          0.07340128670201525,
          null,
          0.03664774299318793,
          0.06421703965128427,
          null,
          0.9924242424242424,
          0.9924242424242424,
          null,
          0.9924242424242424,
          0.9742641841437802,
          null
         ],
         "y": [
          0.5,
          0,
          null,
          0.03356914560461503,
          0.032240501042743994,
          null,
          0.03356914560461503,
          0.09381718376682407,
          null,
          1,
          1,
          null,
          1,
          0.9652590189417244,
          null,
          1,
          1.0347409810582755,
          null,
          1,
          0,
          null,
          0.07246376811594203,
          0.13605670738336034,
          null,
          0,
          1,
          null,
          0.927536231884058,
          0.8639432926166397,
          null,
          0,
          0,
          null,
          0,
          -0.03474098105827558,
          null,
          0,
          0.03474098105827558,
          null,
          0,
          0.5,
          null,
          0.481676128503406,
          0.4992073320037643,
          null,
          0.481676128503406,
          0.4319835048195859,
          null,
          0,
          1,
          null,
          0.927536231884058,
          0.8639432926166397,
          null
         ]
        },
        {
         "hoverinfo": "none",
         "marker": {
          "color": "rgb(255, 255, 255)",
          "line": {
           "color": "rgb(0, 0, 0)",
           "width": 2
          },
          "size": 20
         },
         "mode": "markers+text",
         "text": [
          "0",
          "1",
          "2",
          "3",
          "4"
         ],
         "textfont": {
          "color": "rgb(0, 0, 0)"
         },
         "textposition": "middle center",
         "type": "scatter",
         "uid": "94d91c04-a241-11e8-b30c-ac7ba15704fe",
         "x": [
          0,
          0.5,
          1,
          0.5,
          1
         ],
         "y": [
          0.5,
          1,
          1,
          0,
          0
         ]
        }
       ],
       "layout": {
        "height": 180,
        "margin": {
         "b": 0,
         "l": 0,
         "r": 0,
         "t": 0
        },
        "showlegend": false,
        "width": 320,
        "xaxis": {
         "showgrid": false,
         "showticklabels": false,
         "zeroline": false
        },
        "yaxis": {
         "showgrid": false,
         "showticklabels": false,
         "zeroline": false
        }
       }
      },
      "text/html": [
       "<div id=\"8b1510a3-dfa2-44f8-824c-accb9405fbbd\" style=\"height: 180px; width: 320px;\" class=\"plotly-graph-div\"></div><script type=\"text/javascript\">require([\"plotly\"], function(Plotly) { window.PLOTLYENV=window.PLOTLYENV || {};window.PLOTLYENV.BASE_URL=\"https://plot.ly\";Plotly.newPlot(\"8b1510a3-dfa2-44f8-824c-accb9405fbbd\", [{\"hoverinfo\": \"none\", \"line\": {\"color\": \"rgb(0, 0, 255)\", \"width\": 2}, \"x\": [0.0, 0.5, null, 0.46643085439538495, 0.44538388103556675, null, 0.46643085439538495, 0.4285584341548651, null, 0.5075757575757576, 0.5075757575757576, null, 0.5075757575757576, 0.5257358158562198, null, 0.5, 1.0, null, 0.9738173240163878, 0.9639630823912474, null, 0.9738173240163878, 0.9377166459078401, null], \"type\": \"scatter\", \"y\": [0.5, 1.0, null, 0.966430854395385, 0.906182816233176, null, 0.966430854395385, 0.967759498957256, null, 1.0, 0.0, null, 0.07246376811594203, 0.13605670738336034, null, 0.0, 1.0, null, 0.9476346480327754, 0.8776659754484841, null, 0.9476346480327754, 0.9256934811496907, null], \"mode\": \"lines\", \"uid\": \"94d91c05-a241-11e8-b30c-ac7ba15704fe\"}, {\"hoverinfo\": \"none\", \"line\": {\"color\": \"rgb(0, 0, 0)\", \"width\": 2}, \"x\": [0.0, 0.5, null, 0.46643085439538495, 0.4285584341548651, null, 0.46643085439538495, 0.44538388103556675, null, 0.5, 1.0, null, 0.9621212121212122, 0.9288794484132434, null, 0.9621212121212122, 0.9288794484132434, null, 1.0075757575757576, 1.0075757575757576, null, 1.0075757575757576, 1.0257358158562198, null, 0.49242424242424243, 0.49242424242424243, null, 0.49242424242424243, 0.4742641841437802, null, 0.5, 1.0, null, 0.9621212121212122, 0.9288794484132434, null, 0.9621212121212122, 0.9288794484132434, null, 1.0, 0.0, null, 0.03664774299318793, 0.07340128670201525, null, 0.03664774299318793, 0.06421703965128427, null, 0.9924242424242424, 0.9924242424242424, null, 0.9924242424242424, 0.9742641841437802, null], \"type\": \"scatter\", \"y\": [0.5, 0.0, null, 0.03356914560461503, 0.032240501042743994, null, 0.03356914560461503, 0.09381718376682407, null, 1.0, 1.0, null, 1.0, 0.9652590189417244, null, 1.0, 1.0347409810582755, null, 1.0, 0.0, null, 0.07246376811594203, 0.13605670738336034, null, 0.0, 1.0, null, 0.927536231884058, 0.8639432926166397, null, 0.0, 0.0, null, 0.0, -0.03474098105827558, null, 0.0, 0.03474098105827558, null, 0.0, 0.5, null, 0.481676128503406, 0.4992073320037643, null, 0.481676128503406, 0.4319835048195859, null, 0.0, 1.0, null, 0.927536231884058, 0.8639432926166397, null], \"mode\": \"lines\", \"uid\": \"94d91c06-a241-11e8-b30c-ac7ba15704fe\"}, {\"uid\": \"94d91c07-a241-11e8-b30c-ac7ba15704fe\", \"hoverinfo\": \"none\", \"textposition\": \"middle center\", \"text\": [\"0\", \"1\", \"2\", \"3\", \"4\"], \"marker\": {\"color\": \"rgb(255, 255, 255)\", \"size\": 20, \"line\": {\"color\": \"rgb(0, 0, 0)\", \"width\": 2}}, \"x\": [0.0, 0.5, 1.0, 0.5, 1.0], \"textfont\": {\"color\": \"rgb(0, 0, 0)\"}, \"y\": [0.5, 1.0, 1.0, 0.0, 0.0], \"mode\": \"markers+text\", \"type\": \"scatter\"}], {\"margin\": {\"t\": 0, \"b\": 0, \"l\": 0, \"r\": 0}, \"showlegend\": false, \"width\": 320, \"yaxis\": {\"zeroline\": false, \"showticklabels\": false, \"showgrid\": false}, \"height\": 180, \"xaxis\": {\"zeroline\": false, \"showticklabels\": false, \"showgrid\": false}}, {\"linkText\": \"Export to plot.ly\", \"displayModeBar\": false, \"showLink\": false})});</script>"
      ],
      "text/vnd.plotly.v1+html": [
       "<div id=\"8b1510a3-dfa2-44f8-824c-accb9405fbbd\" style=\"height: 180px; width: 320px;\" class=\"plotly-graph-div\"></div><script type=\"text/javascript\">require([\"plotly\"], function(Plotly) { window.PLOTLYENV=window.PLOTLYENV || {};window.PLOTLYENV.BASE_URL=\"https://plot.ly\";Plotly.newPlot(\"8b1510a3-dfa2-44f8-824c-accb9405fbbd\", [{\"hoverinfo\": \"none\", \"line\": {\"color\": \"rgb(0, 0, 255)\", \"width\": 2}, \"x\": [0.0, 0.5, null, 0.46643085439538495, 0.44538388103556675, null, 0.46643085439538495, 0.4285584341548651, null, 0.5075757575757576, 0.5075757575757576, null, 0.5075757575757576, 0.5257358158562198, null, 0.5, 1.0, null, 0.9738173240163878, 0.9639630823912474, null, 0.9738173240163878, 0.9377166459078401, null], \"type\": \"scatter\", \"y\": [0.5, 1.0, null, 0.966430854395385, 0.906182816233176, null, 0.966430854395385, 0.967759498957256, null, 1.0, 0.0, null, 0.07246376811594203, 0.13605670738336034, null, 0.0, 1.0, null, 0.9476346480327754, 0.8776659754484841, null, 0.9476346480327754, 0.9256934811496907, null], \"mode\": \"lines\", \"uid\": \"94d91c05-a241-11e8-b30c-ac7ba15704fe\"}, {\"hoverinfo\": \"none\", \"line\": {\"color\": \"rgb(0, 0, 0)\", \"width\": 2}, \"x\": [0.0, 0.5, null, 0.46643085439538495, 0.4285584341548651, null, 0.46643085439538495, 0.44538388103556675, null, 0.5, 1.0, null, 0.9621212121212122, 0.9288794484132434, null, 0.9621212121212122, 0.9288794484132434, null, 1.0075757575757576, 1.0075757575757576, null, 1.0075757575757576, 1.0257358158562198, null, 0.49242424242424243, 0.49242424242424243, null, 0.49242424242424243, 0.4742641841437802, null, 0.5, 1.0, null, 0.9621212121212122, 0.9288794484132434, null, 0.9621212121212122, 0.9288794484132434, null, 1.0, 0.0, null, 0.03664774299318793, 0.07340128670201525, null, 0.03664774299318793, 0.06421703965128427, null, 0.9924242424242424, 0.9924242424242424, null, 0.9924242424242424, 0.9742641841437802, null], \"type\": \"scatter\", \"y\": [0.5, 0.0, null, 0.03356914560461503, 0.032240501042743994, null, 0.03356914560461503, 0.09381718376682407, null, 1.0, 1.0, null, 1.0, 0.9652590189417244, null, 1.0, 1.0347409810582755, null, 1.0, 0.0, null, 0.07246376811594203, 0.13605670738336034, null, 0.0, 1.0, null, 0.927536231884058, 0.8639432926166397, null, 0.0, 0.0, null, 0.0, -0.03474098105827558, null, 0.0, 0.03474098105827558, null, 0.0, 0.5, null, 0.481676128503406, 0.4992073320037643, null, 0.481676128503406, 0.4319835048195859, null, 0.0, 1.0, null, 0.927536231884058, 0.8639432926166397, null], \"mode\": \"lines\", \"uid\": \"94d91c06-a241-11e8-b30c-ac7ba15704fe\"}, {\"uid\": \"94d91c07-a241-11e8-b30c-ac7ba15704fe\", \"hoverinfo\": \"none\", \"textposition\": \"middle center\", \"text\": [\"0\", \"1\", \"2\", \"3\", \"4\"], \"marker\": {\"color\": \"rgb(255, 255, 255)\", \"size\": 20, \"line\": {\"color\": \"rgb(0, 0, 0)\", \"width\": 2}}, \"x\": [0.0, 0.5, 1.0, 0.5, 1.0], \"textfont\": {\"color\": \"rgb(0, 0, 0)\"}, \"y\": [0.5, 1.0, 1.0, 0.0, 0.0], \"mode\": \"markers+text\", \"type\": \"scatter\"}], {\"margin\": {\"t\": 0, \"b\": 0, \"l\": 0, \"r\": 0}, \"showlegend\": false, \"width\": 320, \"yaxis\": {\"zeroline\": false, \"showticklabels\": false, \"showgrid\": false}, \"height\": 180, \"xaxis\": {\"zeroline\": false, \"showticklabels\": false, \"showgrid\": false}}, {\"linkText\": \"Export to plot.ly\", \"displayModeBar\": false, \"showLink\": false})});</script>"
      ]
     },
     "metadata": {},
     "output_type": "display_data"
    }
   ],
   "source": [
    "dg.edges[0, 1]['color'] = (0, 0, 255)\n",
    "dg.edges[1, 3]['color'] = (0, 0, 255)\n",
    "dg.edges[3, 2]['color'] = (0, 0, 255)\n",
    "sn.show_graph(dg, nlab=True)"
   ]
  },
  {
   "cell_type": "markdown",
   "metadata": {},
   "source": [
    "## Posicionamento dos nós\n",
    "\n",
    "Para encerrar, vamos carregar o grafo do encontro anterior. O próprio arquivo atribui `label` aos nós, portanto não é necessário criá-los."
   ]
  },
  {
   "cell_type": "code",
   "execution_count": 21,
   "metadata": {},
   "outputs": [
    {
     "data": {
      "application/vnd.plotly.v1+json": {
       "data": [
        {
         "hoverinfo": "none",
         "line": {
          "color": "rgb(0, 0, 0)",
          "width": 2
         },
         "mode": "lines",
         "type": "scatter",
         "uid": "c4d02d24-a241-11e8-b30c-ac7ba15704fe",
         "x": [
          0.4963144963144963,
          0.05405405405405406,
          null,
          0.4963144963144963,
          0.10319410319410319,
          null,
          0.4963144963144963,
          0.25061425061425063,
          null,
          0.4963144963144963,
          0.9115479115479116,
          null,
          0.4963144963144963,
          0.9877149877149877,
          null,
          0.4963144963144963,
          0.941031941031941,
          null,
          0.4963144963144963,
          0.8304668304668305,
          null,
          0.3022113022113022,
          0.4004914004914005,
          null,
          0.3022113022113022,
          0.742014742014742,
          null,
          0.3022113022113022,
          0.009828009828009828,
          null,
          0.3022113022113022,
          0.10319410319410319,
          null,
          0.3022113022113022,
          1,
          null,
          0.15233415233415235,
          0.6953316953316954,
          null,
          0.15233415233415235,
          0.742014742014742,
          null,
          0.15233415233415235,
          1,
          null,
          0.05405405405405406,
          0,
          null,
          0.05405405405405406,
          0.25061425061425063,
          null,
          0.05405405405405406,
          0.597051597051597,
          null,
          0.05405405405405406,
          0.9115479115479116,
          null,
          0.05405405405405406,
          0.9877149877149877,
          null,
          0.05405405405405406,
          0.941031941031941,
          null,
          0.05405405405405406,
          0.8304668304668305,
          null,
          0,
          0.597051597051597,
          null,
          0,
          0.25061425061425063,
          null,
          0.009828009828009828,
          0.6953316953316954,
          null,
          0.009828009828009828,
          0.742014742014742,
          null,
          0.009828009828009828,
          1,
          null,
          0.009828009828009828,
          0.4004914004914005,
          null,
          0.10319410319410319,
          0.742014742014742,
          null,
          0.10319410319410319,
          0.9115479115479116,
          null,
          0.25061425061425063,
          0.9115479115479116,
          null,
          0.25061425061425063,
          0.9877149877149877,
          null,
          0.25061425061425063,
          0.8304668304668305,
          null,
          0.4004914004914005,
          1,
          null,
          0.597051597051597,
          0.9877149877149877,
          null,
          0.742014742014742,
          0.6953316953316954,
          null,
          0.742014742014742,
          1,
          null,
          0.9115479115479116,
          0.9877149877149877,
          null,
          0.9115479115479116,
          0.941031941031941,
          null,
          0.9877149877149877,
          0.8304668304668305,
          null,
          1,
          0.6953316953316954,
          null
         ],
         "y": [
          1,
          0.7213930348258706,
          null,
          1,
          0.20149253731343286,
          null,
          1,
          0.07213930348258701,
          null,
          1,
          0.20149253731343286,
          null,
          1,
          0.3731343283582089,
          null,
          1,
          0.7238805970149254,
          null,
          1,
          0.8706467661691543,
          null,
          0.9701492537313433,
          0,
          null,
          0.9701492537313433,
          0.07462686567164178,
          null,
          0.9701492537313433,
          0.37064676616915426,
          null,
          0.9701492537313433,
          0.20149253731343286,
          null,
          0.9701492537313433,
          0.5472636815920398,
          null,
          0.8731343283582089,
          0.9676616915422885,
          null,
          0.8731343283582089,
          0.07462686567164178,
          null,
          0.8731343283582089,
          0.5472636815920398,
          null,
          0.7213930348258706,
          0.5447761194029851,
          null,
          0.7213930348258706,
          0.07213930348258701,
          null,
          0.7213930348258706,
          0,
          null,
          0.7213930348258706,
          0.20149253731343286,
          null,
          0.7213930348258706,
          0.3731343283582089,
          null,
          0.7213930348258706,
          0.7238805970149254,
          null,
          0.7213930348258706,
          0.8706467661691543,
          null,
          0.5447761194029851,
          0,
          null,
          0.5447761194029851,
          0.07213930348258701,
          null,
          0.37064676616915426,
          0.9676616915422885,
          null,
          0.37064676616915426,
          0.07462686567164178,
          null,
          0.37064676616915426,
          0.5472636815920398,
          null,
          0.37064676616915426,
          0,
          null,
          0.20149253731343286,
          0.07462686567164178,
          null,
          0.20149253731343286,
          0.20149253731343286,
          null,
          0.07213930348258701,
          0.20149253731343286,
          null,
          0.07213930348258701,
          0.3731343283582089,
          null,
          0.07213930348258701,
          0.8706467661691543,
          null,
          0,
          0.5472636815920398,
          null,
          0,
          0.3731343283582089,
          null,
          0.07462686567164178,
          0.9676616915422885,
          null,
          0.07462686567164178,
          0.5472636815920398,
          null,
          0.20149253731343286,
          0.3731343283582089,
          null,
          0.20149253731343286,
          0.7238805970149254,
          null,
          0.3731343283582089,
          0.8706467661691543,
          null,
          0.5472636815920398,
          0.9676616915422885,
          null
         ]
        },
        {
         "hoverinfo": "text",
         "marker": {
          "color": "rgb(255, 255, 255)",
          "line": {
           "color": "rgb(0, 0, 0)",
           "width": 2
          },
          "size": 20
         },
         "mode": "markers",
         "text": [
          "Rogerio",
          "Roberto",
          "Renato",
          "Larissa",
          "Jorge",
          "Sueli",
          "Conrado",
          "Ricardo",
          "Pamela",
          "Fabio",
          "Paulo",
          "William",
          "Tiago",
          "Sandra",
          "Patrick",
          "Jose",
          "Caio"
         ],
         "textfont": {
          "color": "rgb(0, 0, 0)"
         },
         "textposition": "middle center",
         "type": "scatter",
         "uid": "c4d02d25-a241-11e8-b30c-ac7ba15704fe",
         "x": [
          0.4963144963144963,
          0.3022113022113022,
          0.15233415233415235,
          0.05405405405405406,
          0,
          0.009828009828009828,
          0.10319410319410319,
          0.25061425061425063,
          0.4004914004914005,
          0.597051597051597,
          0.742014742014742,
          0.9115479115479116,
          0.9877149877149877,
          1,
          0.941031941031941,
          0.8304668304668305,
          0.6953316953316954
         ],
         "y": [
          1,
          0.9701492537313433,
          0.8731343283582089,
          0.7213930348258706,
          0.5447761194029851,
          0.37064676616915426,
          0.20149253731343286,
          0.07213930348258701,
          0,
          0,
          0.07462686567164178,
          0.20149253731343286,
          0.3731343283582089,
          0.5472636815920398,
          0.7238805970149254,
          0.8706467661691543,
          0.9676616915422885
         ]
        }
       ],
       "layout": {
        "height": 450,
        "margin": {
         "b": 0,
         "l": 0,
         "r": 0,
         "t": 0
        },
        "showlegend": false,
        "width": 450,
        "xaxis": {
         "showgrid": false,
         "showticklabels": false,
         "zeroline": false
        },
        "yaxis": {
         "showgrid": false,
         "showticklabels": false,
         "zeroline": false
        }
       }
      },
      "text/html": [
       "<div id=\"22b9c123-f8ed-48b9-ad13-41a67331d890\" style=\"height: 450px; width: 450px;\" class=\"plotly-graph-div\"></div><script type=\"text/javascript\">require([\"plotly\"], function(Plotly) { window.PLOTLYENV=window.PLOTLYENV || {};window.PLOTLYENV.BASE_URL=\"https://plot.ly\";Plotly.newPlot(\"22b9c123-f8ed-48b9-ad13-41a67331d890\", [{\"hoverinfo\": \"none\", \"line\": {\"color\": \"rgb(0, 0, 0)\", \"width\": 2}, \"x\": [0.4963144963144963, 0.05405405405405406, null, 0.4963144963144963, 0.10319410319410319, null, 0.4963144963144963, 0.25061425061425063, null, 0.4963144963144963, 0.9115479115479116, null, 0.4963144963144963, 0.9877149877149877, null, 0.4963144963144963, 0.941031941031941, null, 0.4963144963144963, 0.8304668304668305, null, 0.3022113022113022, 0.4004914004914005, null, 0.3022113022113022, 0.742014742014742, null, 0.3022113022113022, 0.009828009828009828, null, 0.3022113022113022, 0.10319410319410319, null, 0.3022113022113022, 1.0, null, 0.15233415233415235, 0.6953316953316954, null, 0.15233415233415235, 0.742014742014742, null, 0.15233415233415235, 1.0, null, 0.05405405405405406, 0.0, null, 0.05405405405405406, 0.25061425061425063, null, 0.05405405405405406, 0.597051597051597, null, 0.05405405405405406, 0.9115479115479116, null, 0.05405405405405406, 0.9877149877149877, null, 0.05405405405405406, 0.941031941031941, null, 0.05405405405405406, 0.8304668304668305, null, 0.0, 0.597051597051597, null, 0.0, 0.25061425061425063, null, 0.009828009828009828, 0.6953316953316954, null, 0.009828009828009828, 0.742014742014742, null, 0.009828009828009828, 1.0, null, 0.009828009828009828, 0.4004914004914005, null, 0.10319410319410319, 0.742014742014742, null, 0.10319410319410319, 0.9115479115479116, null, 0.25061425061425063, 0.9115479115479116, null, 0.25061425061425063, 0.9877149877149877, null, 0.25061425061425063, 0.8304668304668305, null, 0.4004914004914005, 1.0, null, 0.597051597051597, 0.9877149877149877, null, 0.742014742014742, 0.6953316953316954, null, 0.742014742014742, 1.0, null, 0.9115479115479116, 0.9877149877149877, null, 0.9115479115479116, 0.941031941031941, null, 0.9877149877149877, 0.8304668304668305, null, 1.0, 0.6953316953316954, null], \"type\": \"scatter\", \"y\": [1.0, 0.7213930348258706, null, 1.0, 0.20149253731343286, null, 1.0, 0.07213930348258701, null, 1.0, 0.20149253731343286, null, 1.0, 0.3731343283582089, null, 1.0, 0.7238805970149254, null, 1.0, 0.8706467661691543, null, 0.9701492537313433, 0.0, null, 0.9701492537313433, 0.07462686567164178, null, 0.9701492537313433, 0.37064676616915426, null, 0.9701492537313433, 0.20149253731343286, null, 0.9701492537313433, 0.5472636815920398, null, 0.8731343283582089, 0.9676616915422885, null, 0.8731343283582089, 0.07462686567164178, null, 0.8731343283582089, 0.5472636815920398, null, 0.7213930348258706, 0.5447761194029851, null, 0.7213930348258706, 0.07213930348258701, null, 0.7213930348258706, 0.0, null, 0.7213930348258706, 0.20149253731343286, null, 0.7213930348258706, 0.3731343283582089, null, 0.7213930348258706, 0.7238805970149254, null, 0.7213930348258706, 0.8706467661691543, null, 0.5447761194029851, 0.0, null, 0.5447761194029851, 0.07213930348258701, null, 0.37064676616915426, 0.9676616915422885, null, 0.37064676616915426, 0.07462686567164178, null, 0.37064676616915426, 0.5472636815920398, null, 0.37064676616915426, 0.0, null, 0.20149253731343286, 0.07462686567164178, null, 0.20149253731343286, 0.20149253731343286, null, 0.07213930348258701, 0.20149253731343286, null, 0.07213930348258701, 0.3731343283582089, null, 0.07213930348258701, 0.8706467661691543, null, 0.0, 0.5472636815920398, null, 0.0, 0.3731343283582089, null, 0.07462686567164178, 0.9676616915422885, null, 0.07462686567164178, 0.5472636815920398, null, 0.20149253731343286, 0.3731343283582089, null, 0.20149253731343286, 0.7238805970149254, null, 0.3731343283582089, 0.8706467661691543, null, 0.5472636815920398, 0.9676616915422885, null], \"mode\": \"lines\", \"uid\": \"c4d02d26-a241-11e8-b30c-ac7ba15704fe\"}, {\"uid\": \"c4d02d27-a241-11e8-b30c-ac7ba15704fe\", \"hoverinfo\": \"text\", \"textposition\": \"middle center\", \"text\": [\"Rogerio\", \"Roberto\", \"Renato\", \"Larissa\", \"Jorge\", \"Sueli\", \"Conrado\", \"Ricardo\", \"Pamela\", \"Fabio\", \"Paulo\", \"William\", \"Tiago\", \"Sandra\", \"Patrick\", \"Jose\", \"Caio\"], \"marker\": {\"color\": \"rgb(255, 255, 255)\", \"size\": 20, \"line\": {\"color\": \"rgb(0, 0, 0)\", \"width\": 2}}, \"x\": [0.4963144963144963, 0.3022113022113022, 0.15233415233415235, 0.05405405405405406, 0.0, 0.009828009828009828, 0.10319410319410319, 0.25061425061425063, 0.4004914004914005, 0.597051597051597, 0.742014742014742, 0.9115479115479116, 0.9877149877149877, 1.0, 0.941031941031941, 0.8304668304668305, 0.6953316953316954], \"textfont\": {\"color\": \"rgb(0, 0, 0)\"}, \"y\": [1.0, 0.9701492537313433, 0.8731343283582089, 0.7213930348258706, 0.5447761194029851, 0.37064676616915426, 0.20149253731343286, 0.07213930348258701, 0.0, 0.0, 0.07462686567164178, 0.20149253731343286, 0.3731343283582089, 0.5472636815920398, 0.7238805970149254, 0.8706467661691543, 0.9676616915422885], \"mode\": \"markers\", \"type\": \"scatter\"}], {\"margin\": {\"t\": 0, \"b\": 0, \"l\": 0, \"r\": 0}, \"showlegend\": false, \"width\": 450, \"yaxis\": {\"zeroline\": false, \"showticklabels\": false, \"showgrid\": false}, \"height\": 450, \"xaxis\": {\"zeroline\": false, \"showticklabels\": false, \"showgrid\": false}}, {\"linkText\": \"Export to plot.ly\", \"displayModeBar\": false, \"showLink\": false})});</script>"
      ],
      "text/vnd.plotly.v1+html": [
       "<div id=\"22b9c123-f8ed-48b9-ad13-41a67331d890\" style=\"height: 450px; width: 450px;\" class=\"plotly-graph-div\"></div><script type=\"text/javascript\">require([\"plotly\"], function(Plotly) { window.PLOTLYENV=window.PLOTLYENV || {};window.PLOTLYENV.BASE_URL=\"https://plot.ly\";Plotly.newPlot(\"22b9c123-f8ed-48b9-ad13-41a67331d890\", [{\"hoverinfo\": \"none\", \"line\": {\"color\": \"rgb(0, 0, 0)\", \"width\": 2}, \"x\": [0.4963144963144963, 0.05405405405405406, null, 0.4963144963144963, 0.10319410319410319, null, 0.4963144963144963, 0.25061425061425063, null, 0.4963144963144963, 0.9115479115479116, null, 0.4963144963144963, 0.9877149877149877, null, 0.4963144963144963, 0.941031941031941, null, 0.4963144963144963, 0.8304668304668305, null, 0.3022113022113022, 0.4004914004914005, null, 0.3022113022113022, 0.742014742014742, null, 0.3022113022113022, 0.009828009828009828, null, 0.3022113022113022, 0.10319410319410319, null, 0.3022113022113022, 1.0, null, 0.15233415233415235, 0.6953316953316954, null, 0.15233415233415235, 0.742014742014742, null, 0.15233415233415235, 1.0, null, 0.05405405405405406, 0.0, null, 0.05405405405405406, 0.25061425061425063, null, 0.05405405405405406, 0.597051597051597, null, 0.05405405405405406, 0.9115479115479116, null, 0.05405405405405406, 0.9877149877149877, null, 0.05405405405405406, 0.941031941031941, null, 0.05405405405405406, 0.8304668304668305, null, 0.0, 0.597051597051597, null, 0.0, 0.25061425061425063, null, 0.009828009828009828, 0.6953316953316954, null, 0.009828009828009828, 0.742014742014742, null, 0.009828009828009828, 1.0, null, 0.009828009828009828, 0.4004914004914005, null, 0.10319410319410319, 0.742014742014742, null, 0.10319410319410319, 0.9115479115479116, null, 0.25061425061425063, 0.9115479115479116, null, 0.25061425061425063, 0.9877149877149877, null, 0.25061425061425063, 0.8304668304668305, null, 0.4004914004914005, 1.0, null, 0.597051597051597, 0.9877149877149877, null, 0.742014742014742, 0.6953316953316954, null, 0.742014742014742, 1.0, null, 0.9115479115479116, 0.9877149877149877, null, 0.9115479115479116, 0.941031941031941, null, 0.9877149877149877, 0.8304668304668305, null, 1.0, 0.6953316953316954, null], \"type\": \"scatter\", \"y\": [1.0, 0.7213930348258706, null, 1.0, 0.20149253731343286, null, 1.0, 0.07213930348258701, null, 1.0, 0.20149253731343286, null, 1.0, 0.3731343283582089, null, 1.0, 0.7238805970149254, null, 1.0, 0.8706467661691543, null, 0.9701492537313433, 0.0, null, 0.9701492537313433, 0.07462686567164178, null, 0.9701492537313433, 0.37064676616915426, null, 0.9701492537313433, 0.20149253731343286, null, 0.9701492537313433, 0.5472636815920398, null, 0.8731343283582089, 0.9676616915422885, null, 0.8731343283582089, 0.07462686567164178, null, 0.8731343283582089, 0.5472636815920398, null, 0.7213930348258706, 0.5447761194029851, null, 0.7213930348258706, 0.07213930348258701, null, 0.7213930348258706, 0.0, null, 0.7213930348258706, 0.20149253731343286, null, 0.7213930348258706, 0.3731343283582089, null, 0.7213930348258706, 0.7238805970149254, null, 0.7213930348258706, 0.8706467661691543, null, 0.5447761194029851, 0.0, null, 0.5447761194029851, 0.07213930348258701, null, 0.37064676616915426, 0.9676616915422885, null, 0.37064676616915426, 0.07462686567164178, null, 0.37064676616915426, 0.5472636815920398, null, 0.37064676616915426, 0.0, null, 0.20149253731343286, 0.07462686567164178, null, 0.20149253731343286, 0.20149253731343286, null, 0.07213930348258701, 0.20149253731343286, null, 0.07213930348258701, 0.3731343283582089, null, 0.07213930348258701, 0.8706467661691543, null, 0.0, 0.5472636815920398, null, 0.0, 0.3731343283582089, null, 0.07462686567164178, 0.9676616915422885, null, 0.07462686567164178, 0.5472636815920398, null, 0.20149253731343286, 0.3731343283582089, null, 0.20149253731343286, 0.7238805970149254, null, 0.3731343283582089, 0.8706467661691543, null, 0.5472636815920398, 0.9676616915422885, null], \"mode\": \"lines\", \"uid\": \"c4d02d26-a241-11e8-b30c-ac7ba15704fe\"}, {\"uid\": \"c4d02d27-a241-11e8-b30c-ac7ba15704fe\", \"hoverinfo\": \"text\", \"textposition\": \"middle center\", \"text\": [\"Rogerio\", \"Roberto\", \"Renato\", \"Larissa\", \"Jorge\", \"Sueli\", \"Conrado\", \"Ricardo\", \"Pamela\", \"Fabio\", \"Paulo\", \"William\", \"Tiago\", \"Sandra\", \"Patrick\", \"Jose\", \"Caio\"], \"marker\": {\"color\": \"rgb(255, 255, 255)\", \"size\": 20, \"line\": {\"color\": \"rgb(0, 0, 0)\", \"width\": 2}}, \"x\": [0.4963144963144963, 0.3022113022113022, 0.15233415233415235, 0.05405405405405406, 0.0, 0.009828009828009828, 0.10319410319410319, 0.25061425061425063, 0.4004914004914005, 0.597051597051597, 0.742014742014742, 0.9115479115479116, 0.9877149877149877, 1.0, 0.941031941031941, 0.8304668304668305, 0.6953316953316954], \"textfont\": {\"color\": \"rgb(0, 0, 0)\"}, \"y\": [1.0, 0.9701492537313433, 0.8731343283582089, 0.7213930348258706, 0.5447761194029851, 0.37064676616915426, 0.20149253731343286, 0.07213930348258701, 0.0, 0.0, 0.07462686567164178, 0.20149253731343286, 0.3731343283582089, 0.5472636815920398, 0.7238805970149254, 0.8706467661691543, 0.9676616915422885], \"mode\": \"markers\", \"type\": \"scatter\"}], {\"margin\": {\"t\": 0, \"b\": 0, \"l\": 0, \"r\": 0}, \"showlegend\": false, \"width\": 450, \"yaxis\": {\"zeroline\": false, \"showticklabels\": false, \"showgrid\": false}, \"height\": 450, \"xaxis\": {\"zeroline\": false, \"showticklabels\": false, \"showgrid\": false}}, {\"linkText\": \"Export to plot.ly\", \"displayModeBar\": false, \"showLink\": false})});</script>"
      ]
     },
     "metadata": {},
     "output_type": "display_data"
    }
   ],
   "source": [
    "sn.graph_width = 450\n",
    "sn.graph_height = 450\n",
    "\n",
    "sn.node_label_position = 'hover' # easter egg!\n",
    "\n",
    "g = sn.load_graph('1-introducao.gml', has_pos=True)\n",
    "\n",
    "sn.show_graph(g, nlab=True)"
   ]
  },
  {
   "cell_type": "markdown",
   "metadata": {},
   "source": [
    "Usamos o argumento `has_pos` para indicar que os atributos `x` e `y` devem ser usados para posicionar os nós. Esse argumento é `False` por padrão, pois nem todo arquivo atribui essas coordenadas.\n",
    "\n",
    "Se elas não forem usadas, a visualização usa um tipo de [force-directed graph drawing](https://en.wikipedia.org/wiki/Force-directed_graph_drawing)."
   ]
  },
  {
   "cell_type": "code",
   "execution_count": 22,
   "metadata": {},
   "outputs": [
    {
     "data": {
      "application/vnd.plotly.v1+json": {
       "data": [
        {
         "hoverinfo": "none",
         "line": {
          "color": "rgb(0, 0, 0)",
          "width": 2
         },
         "mode": "lines",
         "type": "scatter",
         "uid": "0673cf60-a242-11e8-b30c-ac7ba15704fe",
         "x": [
          0.20657589974704132,
          0.1691933733479763,
          null,
          0.20657589974704132,
          0.4622844763552558,
          null,
          0.20657589974704132,
          0.16711990186517114,
          null,
          0.20657589974704132,
          0.31519633984779655,
          null,
          0.20657589974704132,
          0.2821255315831085,
          null,
          0.20657589974704132,
          0.028978521730406354,
          null,
          0.20657589974704132,
          0,
          null,
          0.7421885533900288,
          1,
          null,
          0.7421885533900288,
          0.5986195465539341,
          null,
          0.7421885533900288,
          0.8551372291648821,
          null,
          0.7421885533900288,
          0.4622844763552558,
          null,
          0.7421885533900288,
          0.740022046889083,
          null,
          0.5389680102642214,
          0.7170890350528181,
          null,
          0.5389680102642214,
          0.5986195465539341,
          null,
          0.5389680102642214,
          0.740022046889083,
          null,
          0.1691933733479763,
          0.27779038550597596,
          null,
          0.1691933733479763,
          0.16711990186517114,
          null,
          0.1691933733479763,
          0.14383715855921686,
          null,
          0.1691933733479763,
          0.31519633984779655,
          null,
          0.1691933733479763,
          0.2821255315831085,
          null,
          0.1691933733479763,
          0.028978521730406354,
          null,
          0.1691933733479763,
          0,
          null,
          0.27779038550597596,
          0.14383715855921686,
          null,
          0.27779038550597596,
          0.16711990186517114,
          null,
          0.8551372291648821,
          0.7170890350528181,
          null,
          0.8551372291648821,
          0.5986195465539341,
          null,
          0.8551372291648821,
          0.740022046889083,
          null,
          0.8551372291648821,
          1,
          null,
          0.4622844763552558,
          0.5986195465539341,
          null,
          0.4622844763552558,
          0.31519633984779655,
          null,
          0.16711990186517114,
          0.31519633984779655,
          null,
          0.16711990186517114,
          0.2821255315831085,
          null,
          0.16711990186517114,
          0,
          null,
          1,
          0.740022046889083,
          null,
          0.14383715855921686,
          0.2821255315831085,
          null,
          0.5986195465539341,
          0.7170890350528181,
          null,
          0.5986195465539341,
          0.740022046889083,
          null,
          0.31519633984779655,
          0.2821255315831085,
          null,
          0.31519633984779655,
          0.028978521730406354,
          null,
          0.2821255315831085,
          0,
          null,
          0.740022046889083,
          0.7170890350528181,
          null
         ],
         "y": [
          0.6758672659202495,
          0.8436489329725928,
          null,
          0.6758672659202495,
          0.43791628517850606,
          null,
          0.6758672659202495,
          0.7930451565176585,
          null,
          0.6758672659202495,
          0.6729173103924992,
          null,
          0.6758672659202495,
          0.8298966952574554,
          null,
          0.6758672659202495,
          0.6873980778016566,
          null,
          0.6758672659202495,
          0.8124142435992874,
          null,
          0.24726540497734428,
          0.15461946935870946,
          null,
          0.24726540497734428,
          0.17255911022931722,
          null,
          0.24726540497734428,
          0.11306912972709407,
          null,
          0.24726540497734428,
          0.43791628517850606,
          null,
          0.24726540497734428,
          0.09220008284583461,
          null,
          0.003926654745960382,
          0,
          null,
          0.003926654745960382,
          0.17255911022931722,
          null,
          0.003926654745960382,
          0.09220008284583461,
          null,
          0.8436489329725928,
          0.971497921864815,
          null,
          0.8436489329725928,
          0.7930451565176585,
          null,
          0.8436489329725928,
          1,
          null,
          0.8436489329725928,
          0.6729173103924992,
          null,
          0.8436489329725928,
          0.8298966952574554,
          null,
          0.8436489329725928,
          0.6873980778016566,
          null,
          0.8436489329725928,
          0.8124142435992874,
          null,
          0.971497921864815,
          1,
          null,
          0.971497921864815,
          0.7930451565176585,
          null,
          0.11306912972709407,
          0,
          null,
          0.11306912972709407,
          0.17255911022931722,
          null,
          0.11306912972709407,
          0.09220008284583461,
          null,
          0.11306912972709407,
          0.15461946935870946,
          null,
          0.43791628517850606,
          0.17255911022931722,
          null,
          0.43791628517850606,
          0.6729173103924992,
          null,
          0.7930451565176585,
          0.6729173103924992,
          null,
          0.7930451565176585,
          0.8298966952574554,
          null,
          0.7930451565176585,
          0.8124142435992874,
          null,
          0.15461946935870946,
          0.09220008284583461,
          null,
          1,
          0.8298966952574554,
          null,
          0.17255911022931722,
          0,
          null,
          0.17255911022931722,
          0.09220008284583461,
          null,
          0.6729173103924992,
          0.8298966952574554,
          null,
          0.6729173103924992,
          0.6873980778016566,
          null,
          0.8298966952574554,
          0.8124142435992874,
          null,
          0.09220008284583461,
          0,
          null
         ]
        },
        {
         "hoverinfo": "text",
         "marker": {
          "color": "rgb(255, 255, 255)",
          "line": {
           "color": "rgb(0, 0, 0)",
           "width": 2
          },
          "size": 20
         },
         "mode": "markers",
         "text": [
          "Rogerio",
          "Roberto",
          "Renato",
          "Larissa",
          "Jorge",
          "Sueli",
          "Conrado",
          "Ricardo",
          "Pamela",
          "Fabio",
          "Paulo",
          "William",
          "Tiago",
          "Sandra",
          "Patrick",
          "Jose",
          "Caio"
         ],
         "textfont": {
          "color": "rgb(0, 0, 0)"
         },
         "textposition": "middle center",
         "type": "scatter",
         "uid": "0673cf61-a242-11e8-b30c-ac7ba15704fe",
         "x": [
          0.20657589974704132,
          0.7421885533900288,
          0.5389680102642214,
          0.1691933733479763,
          0.27779038550597596,
          0.8551372291648821,
          0.4622844763552558,
          0.16711990186517114,
          1,
          0.14383715855921686,
          0.5986195465539341,
          0.31519633984779655,
          0.2821255315831085,
          0.740022046889083,
          0.028978521730406354,
          0,
          0.7170890350528181
         ],
         "y": [
          0.6758672659202495,
          0.24726540497734428,
          0.003926654745960382,
          0.8436489329725928,
          0.971497921864815,
          0.11306912972709407,
          0.43791628517850606,
          0.7930451565176585,
          0.15461946935870946,
          1,
          0.17255911022931722,
          0.6729173103924992,
          0.8298966952574554,
          0.09220008284583461,
          0.6873980778016566,
          0.8124142435992874,
          0
         ]
        }
       ],
       "layout": {
        "height": 450,
        "margin": {
         "b": 0,
         "l": 0,
         "r": 0,
         "t": 0
        },
        "showlegend": false,
        "width": 450,
        "xaxis": {
         "showgrid": false,
         "showticklabels": false,
         "zeroline": false
        },
        "yaxis": {
         "showgrid": false,
         "showticklabels": false,
         "zeroline": false
        }
       }
      },
      "text/html": [
       "<div id=\"f7d2ca3a-245b-465c-aa04-9cf460ddc1ce\" style=\"height: 450px; width: 450px;\" class=\"plotly-graph-div\"></div><script type=\"text/javascript\">require([\"plotly\"], function(Plotly) { window.PLOTLYENV=window.PLOTLYENV || {};window.PLOTLYENV.BASE_URL=\"https://plot.ly\";Plotly.newPlot(\"f7d2ca3a-245b-465c-aa04-9cf460ddc1ce\", [{\"hoverinfo\": \"none\", \"line\": {\"color\": \"rgb(0, 0, 0)\", \"width\": 2}, \"x\": [0.20657589974704132, 0.1691933733479763, null, 0.20657589974704132, 0.4622844763552558, null, 0.20657589974704132, 0.16711990186517114, null, 0.20657589974704132, 0.31519633984779655, null, 0.20657589974704132, 0.2821255315831085, null, 0.20657589974704132, 0.028978521730406354, null, 0.20657589974704132, 0.0, null, 0.7421885533900288, 1.0, null, 0.7421885533900288, 0.5986195465539341, null, 0.7421885533900288, 0.8551372291648821, null, 0.7421885533900288, 0.4622844763552558, null, 0.7421885533900288, 0.740022046889083, null, 0.5389680102642214, 0.7170890350528181, null, 0.5389680102642214, 0.5986195465539341, null, 0.5389680102642214, 0.740022046889083, null, 0.1691933733479763, 0.27779038550597596, null, 0.1691933733479763, 0.16711990186517114, null, 0.1691933733479763, 0.14383715855921686, null, 0.1691933733479763, 0.31519633984779655, null, 0.1691933733479763, 0.2821255315831085, null, 0.1691933733479763, 0.028978521730406354, null, 0.1691933733479763, 0.0, null, 0.27779038550597596, 0.14383715855921686, null, 0.27779038550597596, 0.16711990186517114, null, 0.8551372291648821, 0.7170890350528181, null, 0.8551372291648821, 0.5986195465539341, null, 0.8551372291648821, 0.740022046889083, null, 0.8551372291648821, 1.0, null, 0.4622844763552558, 0.5986195465539341, null, 0.4622844763552558, 0.31519633984779655, null, 0.16711990186517114, 0.31519633984779655, null, 0.16711990186517114, 0.2821255315831085, null, 0.16711990186517114, 0.0, null, 1.0, 0.740022046889083, null, 0.14383715855921686, 0.2821255315831085, null, 0.5986195465539341, 0.7170890350528181, null, 0.5986195465539341, 0.740022046889083, null, 0.31519633984779655, 0.2821255315831085, null, 0.31519633984779655, 0.028978521730406354, null, 0.2821255315831085, 0.0, null, 0.740022046889083, 0.7170890350528181, null], \"type\": \"scatter\", \"y\": [0.6758672659202495, 0.8436489329725928, null, 0.6758672659202495, 0.43791628517850606, null, 0.6758672659202495, 0.7930451565176585, null, 0.6758672659202495, 0.6729173103924992, null, 0.6758672659202495, 0.8298966952574554, null, 0.6758672659202495, 0.6873980778016566, null, 0.6758672659202495, 0.8124142435992874, null, 0.24726540497734428, 0.15461946935870946, null, 0.24726540497734428, 0.17255911022931722, null, 0.24726540497734428, 0.11306912972709407, null, 0.24726540497734428, 0.43791628517850606, null, 0.24726540497734428, 0.09220008284583461, null, 0.003926654745960382, 0.0, null, 0.003926654745960382, 0.17255911022931722, null, 0.003926654745960382, 0.09220008284583461, null, 0.8436489329725928, 0.971497921864815, null, 0.8436489329725928, 0.7930451565176585, null, 0.8436489329725928, 1.0, null, 0.8436489329725928, 0.6729173103924992, null, 0.8436489329725928, 0.8298966952574554, null, 0.8436489329725928, 0.6873980778016566, null, 0.8436489329725928, 0.8124142435992874, null, 0.971497921864815, 1.0, null, 0.971497921864815, 0.7930451565176585, null, 0.11306912972709407, 0.0, null, 0.11306912972709407, 0.17255911022931722, null, 0.11306912972709407, 0.09220008284583461, null, 0.11306912972709407, 0.15461946935870946, null, 0.43791628517850606, 0.17255911022931722, null, 0.43791628517850606, 0.6729173103924992, null, 0.7930451565176585, 0.6729173103924992, null, 0.7930451565176585, 0.8298966952574554, null, 0.7930451565176585, 0.8124142435992874, null, 0.15461946935870946, 0.09220008284583461, null, 1.0, 0.8298966952574554, null, 0.17255911022931722, 0.0, null, 0.17255911022931722, 0.09220008284583461, null, 0.6729173103924992, 0.8298966952574554, null, 0.6729173103924992, 0.6873980778016566, null, 0.8298966952574554, 0.8124142435992874, null, 0.09220008284583461, 0.0, null], \"mode\": \"lines\", \"uid\": \"0673cf62-a242-11e8-b30c-ac7ba15704fe\"}, {\"uid\": \"0673cf63-a242-11e8-b30c-ac7ba15704fe\", \"hoverinfo\": \"text\", \"textposition\": \"middle center\", \"text\": [\"Rogerio\", \"Roberto\", \"Renato\", \"Larissa\", \"Jorge\", \"Sueli\", \"Conrado\", \"Ricardo\", \"Pamela\", \"Fabio\", \"Paulo\", \"William\", \"Tiago\", \"Sandra\", \"Patrick\", \"Jose\", \"Caio\"], \"marker\": {\"color\": \"rgb(255, 255, 255)\", \"size\": 20, \"line\": {\"color\": \"rgb(0, 0, 0)\", \"width\": 2}}, \"x\": [0.20657589974704132, 0.7421885533900288, 0.5389680102642214, 0.1691933733479763, 0.27779038550597596, 0.8551372291648821, 0.4622844763552558, 0.16711990186517114, 1.0, 0.14383715855921686, 0.5986195465539341, 0.31519633984779655, 0.2821255315831085, 0.740022046889083, 0.028978521730406354, 0.0, 0.7170890350528181], \"textfont\": {\"color\": \"rgb(0, 0, 0)\"}, \"y\": [0.6758672659202495, 0.24726540497734428, 0.003926654745960382, 0.8436489329725928, 0.971497921864815, 0.11306912972709407, 0.43791628517850606, 0.7930451565176585, 0.15461946935870946, 1.0, 0.17255911022931722, 0.6729173103924992, 0.8298966952574554, 0.09220008284583461, 0.6873980778016566, 0.8124142435992874, 0.0], \"mode\": \"markers\", \"type\": \"scatter\"}], {\"margin\": {\"t\": 0, \"b\": 0, \"l\": 0, \"r\": 0}, \"showlegend\": false, \"width\": 450, \"yaxis\": {\"zeroline\": false, \"showticklabels\": false, \"showgrid\": false}, \"height\": 450, \"xaxis\": {\"zeroline\": false, \"showticklabels\": false, \"showgrid\": false}}, {\"linkText\": \"Export to plot.ly\", \"displayModeBar\": false, \"showLink\": false})});</script>"
      ],
      "text/vnd.plotly.v1+html": [
       "<div id=\"f7d2ca3a-245b-465c-aa04-9cf460ddc1ce\" style=\"height: 450px; width: 450px;\" class=\"plotly-graph-div\"></div><script type=\"text/javascript\">require([\"plotly\"], function(Plotly) { window.PLOTLYENV=window.PLOTLYENV || {};window.PLOTLYENV.BASE_URL=\"https://plot.ly\";Plotly.newPlot(\"f7d2ca3a-245b-465c-aa04-9cf460ddc1ce\", [{\"hoverinfo\": \"none\", \"line\": {\"color\": \"rgb(0, 0, 0)\", \"width\": 2}, \"x\": [0.20657589974704132, 0.1691933733479763, null, 0.20657589974704132, 0.4622844763552558, null, 0.20657589974704132, 0.16711990186517114, null, 0.20657589974704132, 0.31519633984779655, null, 0.20657589974704132, 0.2821255315831085, null, 0.20657589974704132, 0.028978521730406354, null, 0.20657589974704132, 0.0, null, 0.7421885533900288, 1.0, null, 0.7421885533900288, 0.5986195465539341, null, 0.7421885533900288, 0.8551372291648821, null, 0.7421885533900288, 0.4622844763552558, null, 0.7421885533900288, 0.740022046889083, null, 0.5389680102642214, 0.7170890350528181, null, 0.5389680102642214, 0.5986195465539341, null, 0.5389680102642214, 0.740022046889083, null, 0.1691933733479763, 0.27779038550597596, null, 0.1691933733479763, 0.16711990186517114, null, 0.1691933733479763, 0.14383715855921686, null, 0.1691933733479763, 0.31519633984779655, null, 0.1691933733479763, 0.2821255315831085, null, 0.1691933733479763, 0.028978521730406354, null, 0.1691933733479763, 0.0, null, 0.27779038550597596, 0.14383715855921686, null, 0.27779038550597596, 0.16711990186517114, null, 0.8551372291648821, 0.7170890350528181, null, 0.8551372291648821, 0.5986195465539341, null, 0.8551372291648821, 0.740022046889083, null, 0.8551372291648821, 1.0, null, 0.4622844763552558, 0.5986195465539341, null, 0.4622844763552558, 0.31519633984779655, null, 0.16711990186517114, 0.31519633984779655, null, 0.16711990186517114, 0.2821255315831085, null, 0.16711990186517114, 0.0, null, 1.0, 0.740022046889083, null, 0.14383715855921686, 0.2821255315831085, null, 0.5986195465539341, 0.7170890350528181, null, 0.5986195465539341, 0.740022046889083, null, 0.31519633984779655, 0.2821255315831085, null, 0.31519633984779655, 0.028978521730406354, null, 0.2821255315831085, 0.0, null, 0.740022046889083, 0.7170890350528181, null], \"type\": \"scatter\", \"y\": [0.6758672659202495, 0.8436489329725928, null, 0.6758672659202495, 0.43791628517850606, null, 0.6758672659202495, 0.7930451565176585, null, 0.6758672659202495, 0.6729173103924992, null, 0.6758672659202495, 0.8298966952574554, null, 0.6758672659202495, 0.6873980778016566, null, 0.6758672659202495, 0.8124142435992874, null, 0.24726540497734428, 0.15461946935870946, null, 0.24726540497734428, 0.17255911022931722, null, 0.24726540497734428, 0.11306912972709407, null, 0.24726540497734428, 0.43791628517850606, null, 0.24726540497734428, 0.09220008284583461, null, 0.003926654745960382, 0.0, null, 0.003926654745960382, 0.17255911022931722, null, 0.003926654745960382, 0.09220008284583461, null, 0.8436489329725928, 0.971497921864815, null, 0.8436489329725928, 0.7930451565176585, null, 0.8436489329725928, 1.0, null, 0.8436489329725928, 0.6729173103924992, null, 0.8436489329725928, 0.8298966952574554, null, 0.8436489329725928, 0.6873980778016566, null, 0.8436489329725928, 0.8124142435992874, null, 0.971497921864815, 1.0, null, 0.971497921864815, 0.7930451565176585, null, 0.11306912972709407, 0.0, null, 0.11306912972709407, 0.17255911022931722, null, 0.11306912972709407, 0.09220008284583461, null, 0.11306912972709407, 0.15461946935870946, null, 0.43791628517850606, 0.17255911022931722, null, 0.43791628517850606, 0.6729173103924992, null, 0.7930451565176585, 0.6729173103924992, null, 0.7930451565176585, 0.8298966952574554, null, 0.7930451565176585, 0.8124142435992874, null, 0.15461946935870946, 0.09220008284583461, null, 1.0, 0.8298966952574554, null, 0.17255911022931722, 0.0, null, 0.17255911022931722, 0.09220008284583461, null, 0.6729173103924992, 0.8298966952574554, null, 0.6729173103924992, 0.6873980778016566, null, 0.8298966952574554, 0.8124142435992874, null, 0.09220008284583461, 0.0, null], \"mode\": \"lines\", \"uid\": \"0673cf62-a242-11e8-b30c-ac7ba15704fe\"}, {\"uid\": \"0673cf63-a242-11e8-b30c-ac7ba15704fe\", \"hoverinfo\": \"text\", \"textposition\": \"middle center\", \"text\": [\"Rogerio\", \"Roberto\", \"Renato\", \"Larissa\", \"Jorge\", \"Sueli\", \"Conrado\", \"Ricardo\", \"Pamela\", \"Fabio\", \"Paulo\", \"William\", \"Tiago\", \"Sandra\", \"Patrick\", \"Jose\", \"Caio\"], \"marker\": {\"color\": \"rgb(255, 255, 255)\", \"size\": 20, \"line\": {\"color\": \"rgb(0, 0, 0)\", \"width\": 2}}, \"x\": [0.20657589974704132, 0.7421885533900288, 0.5389680102642214, 0.1691933733479763, 0.27779038550597596, 0.8551372291648821, 0.4622844763552558, 0.16711990186517114, 1.0, 0.14383715855921686, 0.5986195465539341, 0.31519633984779655, 0.2821255315831085, 0.740022046889083, 0.028978521730406354, 0.0, 0.7170890350528181], \"textfont\": {\"color\": \"rgb(0, 0, 0)\"}, \"y\": [0.6758672659202495, 0.24726540497734428, 0.003926654745960382, 0.8436489329725928, 0.971497921864815, 0.11306912972709407, 0.43791628517850606, 0.7930451565176585, 0.15461946935870946, 1.0, 0.17255911022931722, 0.6729173103924992, 0.8298966952574554, 0.09220008284583461, 0.6873980778016566, 0.8124142435992874, 0.0], \"mode\": \"markers\", \"type\": \"scatter\"}], {\"margin\": {\"t\": 0, \"b\": 0, \"l\": 0, \"r\": 0}, \"showlegend\": false, \"width\": 450, \"yaxis\": {\"zeroline\": false, \"showticklabels\": false, \"showgrid\": false}, \"height\": 450, \"xaxis\": {\"zeroline\": false, \"showticklabels\": false, \"showgrid\": false}}, {\"linkText\": \"Export to plot.ly\", \"displayModeBar\": false, \"showLink\": false})});</script>"
      ]
     },
     "metadata": {},
     "output_type": "display_data"
    }
   ],
   "source": [
    "g = sn.load_graph('1-introducao.gml')\n",
    "\n",
    "sn.show_graph(g, nlab=True)"
   ]
  },
  {
   "cell_type": "code",
   "execution_count": null,
   "metadata": {},
   "outputs": [],
   "source": []
  }
 ],
 "metadata": {
  "kernelspec": {
   "display_name": "Python 3",
   "language": "python",
   "name": "python3"
  },
  "language_info": {
   "codemirror_mode": {
    "name": "ipython",
    "version": 3
   },
   "file_extension": ".py",
   "mimetype": "text/x-python",
   "name": "python",
   "nbconvert_exporter": "python",
   "pygments_lexer": "ipython3",
   "version": "3.5.2"
  }
 },
 "nbformat": 4,
 "nbformat_minor": 1
}
